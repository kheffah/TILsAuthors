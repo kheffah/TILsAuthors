{
 "cells": [
  {
   "cell_type": "markdown",
   "source": [
    "# Get authors for TILS-WG"
   ],
   "metadata": {
    "collapsed": false
   }
  },
  {
   "cell_type": "code",
   "execution_count": 1,
   "outputs": [],
   "source": [
    "import os\n",
    "from pandas import DataFrame, read_csv, concat"
   ],
   "metadata": {
    "collapsed": false,
    "pycharm": {
     "name": "#%%\n",
     "is_executing": false
    }
   }
  },
  {
   "cell_type": "markdown",
   "source": [
    "## Ground work\n",
    "\n",
    "#### Read files"
   ],
   "metadata": {
    "collapsed": false
   }
  },
  {
   "cell_type": "code",
   "execution_count": 2,
   "outputs": [],
   "source": [
    "paper = \"jan\"\n",
    "\n",
    "# This is the big working group csv file\n",
    "TILWG = read_csv('../TILWG.csv')\n",
    "\n",
    "# These are my authors and affiliations\n",
    "with open('./%s_authors.txt' % paper, 'r') as f:\n",
    "    MY_AUTHORS = f.read()\n",
    "    MY_AUTHORS = MY_AUTHORS.splitlines()\n",
    "\n",
    "with open('./%s_affiliations.txt' % paper, 'r') as f:\n",
    "    MY_AFFILIATIONS = f.read()\n",
    "    MY_AFFILIATIONS = MY_AFFILIATIONS.splitlines()"
   ],
   "metadata": {
    "collapsed": false,
    "pycharm": {
     "name": "#%%\n",
     "is_executing": false
    }
   }
  },
  {
   "cell_type": "markdown",
   "source": [
    "#### Some clanup, quality checks, etc. etc."
   ],
   "metadata": {
    "collapsed": false
   }
  },
  {
   "cell_type": "code",
   "execution_count": 3,
   "outputs": [],
   "source": [
    "# This is list of my authors (just author names)\n",
    "my_authors = [\n",
    "    [k.strip() for k in j.split(' | ')] for j in MY_AUTHORS] \n",
    "\n",
    "# same for big WG\n",
    "tilwg_authors = [str(j).strip() for j in list(TILWG.loc[:, 'auth'])] \n",
    "TILWG.loc[:, 'auth'] = tilwg_authors"
   ],
   "metadata": {
    "collapsed": false,
    "pycharm": {
     "name": "#%%\n",
     "is_executing": false
    }
   }
  },
  {
   "cell_type": "code",
   "execution_count": 4,
   "outputs": [],
   "source": [
    "# DATA INTEGRITY CHECK!!!!!!\n",
    "# find commmon authors, keeping in mind there might be some different\n",
    "# capitalization & middle initials\n",
    "\n",
    "def _get_common_authors():\n",
    "    common_authors = tilwg_authors.copy()\n",
    "    nchar1 = 3\n",
    "    nchar2 = 4\n",
    "    # union is a dict where keys are full-wg spelling, and values\n",
    "    # are my spelling.\n",
    "    union = dict()\n",
    "    manual = []\n",
    "    for smy, _ in my_authors:\n",
    "        my = [j.lower() for j in smy.strip().split(' ')]\n",
    "        matched = False\n",
    "        for sfull in tilwg_authors:\n",
    "            full = [j.lower() for j in sfull.strip().split(' ')]\n",
    "            first = my[0][:nchar1] == full[0][:nchar1]\n",
    "            last = my[-1][:nchar2] == full[-1][:nchar2]\n",
    "            if first and last:\n",
    "                common_authors.remove(sfull)\n",
    "                union[sfull] = smy\n",
    "                matched = True\n",
    "        if not matched:\n",
    "            manual.append(smy)\n",
    "    manual = list(set(manual))\n",
    "    return union, manual\n",
    "\n",
    "def _sanity_checks():\n",
    "    assert(len(union) == len(my_authors)), \\\n",
    "        \"Suspiciously duplicate authors found in main TIL-WG!\"\n",
    "    assert(len(manual) == 0), \"These authors need manual fixing: %s\" % manual\n",
    "    \n",
    "    # print authors with misspellings -- my author list is reference point\n",
    "    need_updating = [v for k, v in union.items() if k != v]\n",
    "    if len(need_updating) > 0:\n",
    "        print(\"The following authors are misspelt in main TIL-WG:\")\n",
    "        print(\"\\n\".join(need_updating))\n",
    "\n",
    "# ideally, manual should be empty since all out authors are TILs-WG member\n",
    "# if not you should manually fix those in manual\n",
    "union, manual = _get_common_authors()\n",
    "need_updating = _sanity_checks()"
   ],
   "metadata": {
    "collapsed": false,
    "pycharm": {
     "name": "#%%\n",
     "is_executing": false
    }
   }
  },
  {
   "cell_type": "markdown",
   "source": [
    "#### Combine author and member lists"
   ],
   "metadata": {
    "collapsed": false
   }
  },
  {
   "cell_type": "code",
   "execution_count": 5,
   "outputs": [
    {
     "name": "stderr",
     "text": [
      "/home/mtageld/anaconda3/envs/wsi/lib/python3.6/site-packages/ipykernel_launcher.py:7: SettingWithCopyWarning: \n",
      "A value is trying to be set on a copy of a slice from a DataFrame\n",
      "\n",
      "See the caveats in the documentation: http://pandas.pydata.org/pandas-docs/stable/user_guide/indexing.html#returning-a-view-versus-a-copy\n",
      "  import sys\n"
     ],
     "output_type": "stream"
    }
   ],
   "source": [
    "def _combine_author_and_member_tables():\n",
    "    \n",
    "    # remove authors from the full-wg already in author list\n",
    "    tilwg = TILWG.loc[~TILWG.loc[:, 'auth'].isin(union.keys()), :]\n",
    "    \n",
    "    # now sort non-author member alphabetically as journal wants\n",
    "    tilwg.sort_values('auth', inplace=True, ascending=True)\n",
    "    \n",
    "    # dict mapping affiliation number strings and institutions\n",
    "    my_affiliations = dict()\n",
    "    for aff in MY_AFFILIATIONS:\n",
    "        start = aff.find('.')\n",
    "        my_affiliations[aff[:start].strip()] = aff[start + 1:].strip()\n",
    "    \n",
    "    # create a dataframe for my authors in the same form as main group\n",
    "    my_df = DataFrame(columns=('auth', 'affil')) \n",
    "    for smy, affs in my_authors:\n",
    "        afflist = [j.strip() for j in affs.split(',')]\n",
    "        for aff in afflist:\n",
    "            pos = my_df.shape[0]\n",
    "            my_df.loc[pos, 'auth'] = smy\n",
    "            my_df.loc[pos, 'affil'] = my_affiliations[aff]\n",
    "    \n",
    "    # now concat the two to form the big list\n",
    "    # It's important we do things this way to preserve the order of authors\n",
    "    FULLDF = concat((my_df, tilwg), 0, ignore_index=True)\n",
    "    first_member = len(my_df)\n",
    "\n",
    "    return FULLDF, first_member\n",
    "\n",
    "FULLDF, first_member = _combine_author_and_member_tables()"
   ],
   "metadata": {
    "collapsed": false,
    "pycharm": {
     "name": "#%%\n",
     "is_executing": false
    }
   }
  },
  {
   "cell_type": "markdown",
   "source": [
    "#### Inspect + standardize affiliations"
   ],
   "metadata": {
    "collapsed": false
   }
  },
  {
   "cell_type": "code",
   "execution_count": 6,
   "outputs": [
    {
     "name": "stdout",
     "text": [
      "There are 15 suspiciously similar affiliations that WILL BE MERGED:\n",
      "\n",
      "German Breast Group, Neu-Isenburg, Germany\n",
      "German Breast Group, Neu-Isenburg, Germany. \n",
      "\n",
      "Department of Medical Oncology, Peter MacCallum Cancer Centre, Melbourne, Australia.\n",
      "Department of Medical Oncology, Peter MacCallum Cancer Centre, Melbourne, VIC, Australia. \n",
      "\n",
      "Department of Pathology, Brigham and Women's Hospital, Boston, MA, USA\n",
      "Department of Pathology, Brigham and Womenâ€™s Hospital, Harvard Medical School, Boston, MA, USA \n",
      "\n",
      "Sir Peter MacCallum Department of Oncology, University of Melbourne, Parkville, Australia\n",
      "Sir Peter MacCallum Department of Oncology, University of Melbourne, Melbourne, Victoria, Australia \n",
      "\n",
      "Service de Biostatistique et d'EpidÃ©miologie, Gustave Roussy, Villejuif, France\n",
      "Service de Biostatistique et d’Epidémiologie, Gustave Roussy, CESP, Université-Paris Sud, Université Paris-Saclay, Villejuif, France. \n",
      "\n",
      "Department of Pathology, Matsuyama Shimin Hospital, Ehime, Japan\n",
      "Department of Pathology, Matsuyama Shimin Hospital, Matsuyama, Japan. \n",
      "\n",
      "Division of Research, Peter Mac Callum Cancer Center, Melbourne, Australia\n",
      "Division of Research and Cancer Medicine, Peter MacCallum Cancer Centre, University of Melbourne, Victoria, Australia \n",
      "\n",
      "Department of Pathology, Institut Jules Bordet, Brussels, Belgium.\n",
      "Department of Pathology, Institut Jules Bordet, Université Libre de Bruxelles, Brussels, Belgium. \n",
      "\n",
      "Department of Pathology, Yale School of Medicine, New Haven, USA\n",
      "Department of Pathology, Yale School of Medicine, New Haven, CT, USA \n",
      "\n",
      "Computational Pathology Group, Department of Pathology, Radboud University Medical Center, Nijmegen, Netherlands\n",
      "Computational Pathology Group, Department of Pathology, Radboud University Medical Center, Nijmegen, Netherlands. \n",
      "\n",
      "Institute of Pathology, Charité Universitätsmedizin Berlin, Berlin, Germany\n",
      "Institute of Pathology, CharitÃ© UniversitÃ¤tsmedizin Berlin, Berlin, Germany \n",
      "\n",
      "Department of Pathology, Universidad de la Frontera, Temuco, Chile\n",
      "Department of Pathology, Universidad de La Frontera, Temuco, Chile. \n",
      "\n",
      "Division of Research and Cancer Medicine, Peter MacCallum Cancer Centre, University of Melbourne, Victoria, Australia\n",
      "Division of Research and Clinical Medicine, Peter MacCallum Cancer Centre, University of Melbourne, Melbourne, VIC, Australia \n",
      "\n",
      "Molecular Immunology Unit, Institut Jules Bordet, Brussels, Belgium.\n",
      "Molecular Immunology Unit, Institut Jules Bordet, Université Libre de Bruxelles, Brussels, Belgium. \n",
      "\n",
      "Peter MacCallum Cancer Centre, Melbourne, Australia\n",
      "Peter MacCallum Cancer Centre, Melbourne, Victoria, Australia \n",
      "\n"
     ],
     "output_type": "stream"
    }
   ],
   "source": [
    "# affiliations that we KNOW are not duplicted. This is determined\n",
    "# post-hoc after running the function below and manually inspecting results \n",
    "NOT_SUSPICIOUS = [\n",
    "    'Department of Pathology, University Hospital Ghent, Belgium.',\n",
    "    'Department of Pathology, Gustave Roussy, Grand Paris, France.',\n",
    "    'Department of Pathology, GZA-ZNA Hospitals, Antwerp, Belgium',\n",
    "    'Department of Pathology, GZA-ZNA Ziekenhuizen, Antwerp, Belgium',\n",
    "    'Department of Medical Oncology, Gustave Roussy, Villejuif, France.',\n",
    "    'Division of Molecular Pathology, The Netherlands Cancer Institute, ' \\\n",
    "        + 'Amsterdam, The Netherlands',\n",
    "    'Division of Molecular Oncology & Immunology, The Netherlands Cancer ' \\\n",
    "     + 'Institute, Amsterdam, The Netherlands',\n",
    "]\n",
    "\n",
    "def _get_suspiciously_similar_affiliations():\n",
    "    unique_affiliations = list(set(\n",
    "        [j.strip() for j in FULLDF.loc[:, 'affil']]))\n",
    "    affilmap = dict()\n",
    "    n1 = 15\n",
    "    n2 = 5\n",
    "    n3 = 5\n",
    "    for saffil1 in unique_affiliations:\n",
    "        affil1 = [j.strip() for j in saffil1.split(',')]\n",
    "        for saffil2 in unique_affiliations:\n",
    "            affil2 = [j.strip() for j in saffil2.split(',')]\n",
    "            if saffil1 == saffil2:\n",
    "                continue\n",
    "            dept = affil1[0][:n1] == affil2[0][:n1]\n",
    "            uni = affil1[1][:n2] == affil2[1][:n2]\n",
    "            country = affil1[-1][:n3] == affil2[-1][:n3]\n",
    "            if dept and uni and country and (\n",
    "                not any([\n",
    "                    j.strip() in NOT_SUSPICIOUS for j in (saffil1, saffil2)])\n",
    "            ):\n",
    "                # longer version is assumer to be more detailed (i.e better)\n",
    "                if len(saffil1) > len(saffil2):\n",
    "                    affilmap[saffil2] = saffil1\n",
    "                else:\n",
    "                    affilmap[saffil1] = saffil2\n",
    "    \n",
    "    if len(affilmap) > 0:\n",
    "        print(\n",
    "            \"There are %d suspiciously similar affiliations that \"\n",
    "            \"WILL BE MERGED:\\n\" % len(affilmap))\n",
    "        for s1, s2 in affilmap.items():\n",
    "            print(s1)\n",
    "            print(s2, \"\\n\")\n",
    "    \n",
    "    return affilmap\n",
    "\n",
    "def _merge_affiliations():\n",
    "    for a1, a2 in affilmap.items():\n",
    "        FULLDF.loc[FULLDF.loc[:, \"affil\"] == a1, \"affil\"] = a2\n",
    "\n",
    "affilmap = _get_suspiciously_similar_affiliations()\n",
    "_merge_affiliations()"
   ],
   "metadata": {
    "collapsed": false,
    "pycharm": {
     "name": "#%%\n",
     "is_executing": false
    }
   }
  },
  {
   "cell_type": "markdown",
   "source": [
    "## Format combined author and member strings"
   ],
   "metadata": {
    "collapsed": false
   }
  },
  {
   "cell_type": "code",
   "execution_count": 7,
   "outputs": [],
   "source": [
    "# This assumes that if the same author has two or more affiliations, he/she\n",
    "# appears in CONSECUTIVE ROWS in the dataframe\n",
    "\n",
    "affil_no = dict()\n",
    "done_auths = dict()\n",
    "AUTHSTR = \"\"\n",
    "AFFILSTR = \"\"\n",
    "\n",
    "# name of first member\n",
    "fmname = FULLDF.iloc[first_member, :][\"auth\"]\n",
    "\n",
    "affid = 0\n",
    "\n",
    "for _, row in FULLDF.iterrows():\n",
    "    auth = row['auth']\n",
    "    affil = row['affil']\n",
    "    \n",
    "    # make sure we know where to find this first_member\n",
    "    if auth == fmname:\n",
    "        fmloc = len(AUTHSTR)\n",
    "        faloc = len(AFFILSTR)\n",
    "    \n",
    "    affil_not_exists = affil not in affil_no.keys()\n",
    "    fno = affid + 1 if affil_not_exists else affil_no[affil]\n",
    "    \n",
    "    # add author to author string\n",
    "    add = False\n",
    "    if auth not in done_auths.keys():\n",
    "        AUTHSTR += ', ' + auth\n",
    "        add = True\n",
    "    else:\n",
    "        AUTHSTR += '<sup>, </sup>'\n",
    "        if fno not in done_auths[auth]:\n",
    "            add = True\n",
    "        \n",
    "    # add affiliation to this author -- avoid repeats for same author\n",
    "    if add:\n",
    "        AUTHSTR += \"<sup>%d</sup>\" % fno\n",
    "    \n",
    "    # add affiliation to affiliation string if not there\n",
    "    if affil_not_exists:\n",
    "        AFFILSTR += \", <sup>%d </sup>%s\" % (fno, affil)\n",
    "        \n",
    "    # keep in memory\n",
    "    if auth not in done_auths.keys():\n",
    "        done_auths[auth] = [fno]\n",
    "    else:\n",
    "        done_auths[auth].append(fno)\n",
    "    affil_no[affil] = fno\n",
    "    if affil_not_exists:\n",
    "        affid += 1\n",
    "\n",
    "AUTHSTR = AUTHSTR[2:]\n",
    "AFFILSTR = AFFILSTR[2:]\n",
    "    "
   ],
   "metadata": {
    "collapsed": false,
    "pycharm": {
     "name": "#%%\n",
     "is_executing": false
    }
   }
  },
  {
   "cell_type": "markdown",
   "source": [
    "## Split author and member lists"
   ],
   "metadata": {
    "collapsed": false
   }
  },
  {
   "cell_type": "code",
   "execution_count": 8,
   "outputs": [],
   "source": [
    "PAPER_AUTHORS = AUTHSTR[:fmloc]\n",
    "PAPER_AFFILS = AFFILSTR[:faloc]\n",
    "WG_MEMBERS = AUTHSTR[fmloc:]\n",
    "WG_AFFILS = AFFILSTR[faloc:]\n",
    "\n",
    "# conform to journal style\n",
    "PAPER_AUTHORS += \\\n",
    "    \"International Immuno-Oncology Biomarker Working Group<sup>*</sup>\"\n",
    "PAPER_AFFILS += \"<sup>* </sup>A full list of members and their affiliations\" \\\n",
    "                + \" is available at the end of the manuscript.\"\n",
    "\n",
    "FINALSTR = \"<b>Authors:</b>\"\n",
    "FINALSTR += '<br />'\n",
    "FINALSTR += PAPER_AUTHORS\n",
    "FINALSTR += '<br /> <br />'\n",
    "FINALSTR += \"<b>Affiliations:</b>\"\n",
    "FINALSTR += '<br />'\n",
    "FINALSTR += PAPER_AFFILS\n",
    "FINALSTR += '<br /> <br />'\n",
    "FINALSTR += \"<b>Working Group members:</b>\"\n",
    "FINALSTR += '<br />'\n",
    "FINALSTR += WG_MEMBERS\n",
    "FINALSTR += '<br /> <br />'\n",
    "FINALSTR += \"<b>Working Group affiliations:</b>\"\n",
    "FINALSTR += '<br />'\n",
    "FINALSTR += WG_AFFILS\n",
    "\n",
    "\n",
    "with open('./%s_formatted_list.html' % paper, 'w') as f:\n",
    "    f.write(FINALSTR)"
   ],
   "metadata": {
    "collapsed": false,
    "pycharm": {
     "name": "#%%\n",
     "is_executing": false
    }
   }
  },
  {
   "cell_type": "code",
   "source": [
    "from IPython.display import HTML\n",
    "\n",
    "HTML(filename='./%s_formatted_list.html' % paper)"
   ],
   "metadata": {
    "collapsed": false,
    "pycharm": {
     "name": "#%% \n",
     "is_executing": false
    }
   },
   "execution_count": 9,
   "outputs": [
    {
     "data": {
      "text/plain": "<IPython.core.display.HTML object>",
      "text/html": "<b>Authors:</b><br />Jan Hudeček<sup>1</sup>, Leonie Voorwerk<sup>2</sup>, Maartje van Seijen<sup>3</sup>, Iris Nederlof<sup>3</sup>, Michiel de Maaker<sup>3</sup>, Jose van den Berg<sup>4</sup>, Koen K. van de Vijver<sup>5</sup>, Karolina Sikorska<sup>6</sup>, Sylvia Adams<sup>7</sup>, Sandra Demaria<sup>8</sup><sup>, </sup><sup>9</sup>, Giuseppe Viale<sup>10</sup><sup>, </sup><sup>11</sup>, Torsten O. Nielsen<sup>12</sup>, Sunil S. Badve<sup>13</sup>, Stefan Michiels<sup>14</sup><sup>, </sup><sup>15</sup>, William Fraser Symmans<sup>16</sup>, Christos Sotiriou<sup>17</sup>, David L. Rimm<sup>18</sup><sup>, </sup><sup>19</sup>, Stephen M. Hewitt<sup>20</sup>, Carsten Denkert<sup>21</sup><sup>, </sup><sup>22</sup>, Sibylle Loibl<sup>23</sup>, Sherene Loi<sup>24</sup>, John M.S. Bartlett<sup>25</sup><sup>, </sup><sup>26</sup><sup>, </sup><sup>27</sup>, Giancarlo Pruneri<sup>28</sup><sup>, </sup><sup>29</sup>, Deborah A. Dillon<sup>30</sup>, Maggie C.U. Cheang<sup>31</sup>, Andrew Tutt<sup>32</sup>, Jacqueline A. Hall<sup>33</sup>, Zuzana Kos<sup>34</sup>, Roberto Salgado<sup>35</sup><sup>, </sup><sup>24</sup>, Marleen Kok<sup>2</sup><sup>, </sup><sup>36</sup>, Hugo M. Horlings<sup>3</sup><sup>, </sup><sup>4</sup>, International Immuno-Oncology Biomarker Working Group<sup>*</sup><br /> <br /><b>Affiliations:</b><br /><sup>1 </sup>Department of Research IT, The Netherlands Cancer Institute, Amsterdam, The Netherlands, <sup>2 </sup>Division of Molecular Oncology & Immunology, The Netherlands Cancer Institute, Amsterdam, The Netherlands, <sup>3 </sup>Division of Molecular Pathology, The Netherlands Cancer Institute, Amsterdam, The Netherlands, <sup>4 </sup>Department of Pathology, The Netherlands Cancer Institute, Amsterdam, The Netherlands, <sup>5 </sup>Department of Pathology, Ghent University Hospital, Ghent, Belgium, <sup>6 </sup>Department of Biometrics, The Netherlands Cancer Institute, Amsterdam, The Netherlands, <sup>7 </sup>Department of Medicine, Perlmutter Cancer Center, New York University School of Medicine, New York, NY, USA, <sup>8 </sup>Department of Radiation Oncology, Weill Cornell Medicine, New York, NY, USA, <sup>9 </sup>Department of Pathology and Laboratory Medicine, Weill Cornell Medicine, New York, NY, USA, <sup>10 </sup>International Breast Cancer Study Group Central Pathology Office, Department of Pathology and Laboratory Medicine, IEO European Institute of Oncology IRCCS, Milan, Italy, <sup>11 </sup>University of Milan, Milan, Italy, <sup>12 </sup>Department of Pathology and Laboratory Medicine, Genetic Pathology Evaluation Centre, University of British Columbia, Vancouver, Canada, <sup>13 </sup>Department of Pathology and Laboratory Medicine, Indiana University Simon Cancer Center, Indianapolis, Indiana, USA, <sup>14 </sup>Service de Biostatistique et d’Epidémiologie, Gustave Roussy, CESP, Université-Paris Sud, Université Paris-Saclay, Villejuif, France., <sup>15 </sup>CESP, Fac. de mÃ©decine - Univ. Paris-Sud, Fac. de mÃ©decine - UVSQ, INSERM, UniversitÃ© Paris-Saclay, Villejuif, France, <sup>16 </sup>Department of Pathology, M.D. Anderson Cancer Center, Houston, TX, USA, <sup>17 </sup>Breast Cancer Translational Research Laboratory, Institut Jules Bordet, U-CRC, UniversitÃ© Libre de Bruxelles, Brussels, Belgium, <sup>18 </sup>Department of Pathology, Yale School of Medicine, New Haven, CT, USA, <sup>19 </sup>Department of Medicine, Yale University School of Medicine, New Haven, CT, USA, <sup>20 </sup>Laboratory of Pathology, Center for Cancer Research, National Cancer Institute, Bethesda, MD, USA, <sup>21 </sup>Institute of Pathology, CharitÃ© UniversitÃ¤tsmedizin Berlin, Berlin, Germany, <sup>22 </sup>Institute of Pathology, Philipps-University Marburg, Marburg, Germany, <sup>23 </sup>German Breast Group, Neu-Isenburg, Germany., <sup>24 </sup>Division of Research and Clinical Medicine, Peter MacCallum Cancer Centre, University of Melbourne, Melbourne, VIC, Australia, <sup>25 </sup>Ontario Institute for Cancer Research, Toronto, ON, Canada, <sup>26 </sup>IGMM, Edinburgh, UK, <sup>27 </sup>Edinburgh Cancer Research Centre, Western General Hospital, Edinburgh, United Kingdom, <sup>28 </sup>Department of Pathology and Laboratory Medicine, IRCCS Fondazion - Instituto Nazionale Tumori, Milan, Italy, <sup>29 </sup>University of Milan, School of Medicine, Milan, Italy, <sup>30 </sup>Department of Pathology, Brigham and Womenâ€™s Hospital, Harvard Medical School, Boston, MA, USA, <sup>31 </sup>Clinical Trials and Statistics Unit, The Institute of Cancer Research, Surrey, UK, <sup>32 </sup>Breast Cancer Now Toby Robins Research Centre, The Institute of Cancer Research, London, UK, <sup>33 </sup>Research and Development, Vivactiv Ltd, Chesham, Buckinghamshire, UK, <sup>34 </sup>Department of Pathology and Laboratory Medicine, University of Ottawa, Ottawa, Canada, <sup>35 </sup>Department of Pathology, GZA-ZNA Ziekenhuizen, Antwerp, Belgium, <sup>36 </sup>Department of Medical Oncology, The Netherlands Cancer Institute, Amsterdam, The Netherlands, <sup>* </sup>A full list of members and their affiliations is available at the end of the manuscript.<br /> <br /><b>Working Group members:</b><br />Aini Hyytiäinen<sup>37</sup>, Akira I. Hida<sup>38</sup><sup>, </sup>, Alastair Thompson<sup>39</sup>, Alex Lefevre<sup>40</sup>, Alexander J. Lazar<sup>41</sup>, Allen Gown<sup>42</sup>, Amy Lo<sup>43</sup>, Ana Sapino<sup>44</sup>, Anant Madabhushi<sup>45</sup><sup>, </sup><sup>46</sup>, Andre Moreira<sup>47</sup>, Andrea Richardson<sup>48</sup>, Andrea Vingiani<sup>49</sup>, Andrew H. Beck<sup>50</sup>, Andrew M. Bellizzi<sup>51</sup>, Angel Guerrero<sup>52</sup>, Anita Grigoriadis<sup>53</sup><sup>, </sup><sup>54</sup>, Anna Ehinger<sup>55</sup>, Anna Garrido Castro<sup>56</sup>, Anne Vincent-Salomon<sup>57</sup>, Anne-Vibeke Laenkholm<sup>58</sup>, Ashish Sharma<sup>59</sup>, Ashley Cimino-Mathews<sup>60</sup>, Ashok Srinivasan<sup>61</sup>, Balazs Acs<sup>62</sup>, Baljit Singh<sup>63</sup>, Benjamin Calhoun<sup>64</sup>, Benjamin Haibe-Kans<sup>65</sup>, Benjamin Solomon<sup>66</sup>, Bibhusal Thapa<sup>67</sup>, Brad H. Nelson<sup>68</sup>, Brandon D. Gallas<sup>69</sup>, Carlos Castaneda<sup>70</sup><sup>, </sup><sup>71</sup>, Carmen Ballesteroes-Merino<sup>72</sup>, Carmen Criscitiello<sup>73</sup>, Carolien Boeckx<sup>74</sup>, Cecile Colpaert<sup>75</sup>, Cecily Quinn<sup>76</sup>, Chakra S. Chennubhotla<sup>77</sup>, Charles Swanton<sup>78</sup>, Cinzia Solinas<sup>79</sup>, Crispin Hiley<sup>78</sup>, Damien Drubay<sup>80</sup><sup>, </sup><sup>81</sup>, Daniel Bethmann<sup>82</sup>, David A. Moore<sup>83</sup><sup>, </sup><sup>84</sup>, Denis Larsimont<sup>85</sup>, Dhanusha Sabanathan<sup>86</sup>, Dieter Peeters<sup>87</sup>, Dimitrios Zardavas<sup>88</sup>, Doris Höflmayer<sup>89</sup>, Douglas B. Johnson<sup>90</sup>, E. Aubrey Thompson<sup>91</sup>, Edi Brogi<sup>92</sup>, Edith Perez<sup>93</sup>, Ehab A. ElGabry<sup>94</sup>, Elisabeth Specht Stovgaard<sup>95</sup>, Elizabeth F. Blackley<sup>66</sup>, Elvire Roblin<sup>96</sup><sup>, </sup><sup>97</sup>, Emily Reisenbichler<sup>18</sup>, Enrique Bellolio<sup>98</sup><sup>, </sup><sup>99</sup>, Eva Balslev<sup>95</sup>, Ewa Chmielik<sup>100</sup>, Fabien Gaire<sup>101</sup>, Fabrice Andre<sup>102</sup>, Fang-I Lu<sup>103</sup>, Farid Azmoudeh-Ardalan<sup>104</sup>, Federico Rojo<sup>105</sup><sup>, </sup><sup>106</sup>, Forbius Tina Gruosso<sup>107</sup>, Francesco Ciompi<sup>108</sup>, Franklin Peale<sup>109</sup>, Fred R. Hirsch<sup>110</sup>, Frederick Klaushen<sup>21</sup>, Frédérique Penault-Llorca<sup>111</sup>, Gabriela Acosta-Haab<sup>112</sup>, Gelareh Farshid<sup>113</sup>, Gert van den Eynden<sup>114</sup>, Giuseppe Curigliano<sup>115</sup><sup>, </sup><sup>116</sup>, Giuseppe Floris<sup>117</sup><sup>, </sup><sup>118</sup>, Glenn Broeckx<sup>119</sup>, Gonzalez-Ericsson<sup>120</sup>, Harmut Koeppen<sup>43</sup>, Harry R. Haynes<sup>121</sup>, Heather McArthur<sup>122</sup>, Heikki Joensuu<sup>123</sup>, Helena Olofsson<sup>124</sup>, Huang-Chun Lien<sup>125</sup>, I-Chun Chen<sup>126</sup><sup>, </sup><sup>127</sup>, Ian Cree<sup>128</sup>, Isabel Frahm<sup>129</sup>, Iva Brcic<sup>130</sup>, Jack Chan<sup>131</sup>, James Ziai<sup>43</sup>, Jane Brock<sup>132</sup>, Jelle Weseling<sup>133</sup>, Jennifer Giltnane<sup>43</sup>, Jennifer K. Kerner<sup>134</sup>, Jeppe Thagaard<sup>135</sup><sup>, </sup><sup>136</sup>, Jeremy P. Braybrooke<sup>137</sup><sup>, </sup><sup>138</sup>, Jeroen A.W.M. van der Laak<sup>108</sup>, Jerome Lemonnier<sup>139</sup>, Jiping Zha<sup>140</sup>, Joana Ribeiro<sup>141</sup>, Jochen K. Lennerz<sup>142</sup>, Jodi M. Carter<sup>143</sup>, Joel Saltz<sup>144</sup>, Johan Hartman<sup>145</sup>, Johannes Hainfellner<sup>146</sup>, John Le Quesne<sup>147</sup>, Jonathon W. Juco<sup>148</sup>, Jorge Reis-Filho<sup>92</sup><sup>, </sup><sup>149</sup>, Joselyn Sanchez<sup>150</sup>, Joseph Sparano<sup>151</sup>, Joël Cucherousset<sup>152</sup>, Juan Carlos Araya<sup>98</sup>, Julien Adam<sup>153</sup>, Justin M. Balko<sup>154</sup>, Kai Saeger<sup>155</sup>, Kalliopi Siziopikou<sup>156</sup>, Karen Willard-Gallo<sup>157</sup>, Karsten Weber<sup>23</sup>, Katherine L. Pogue-Geile<sup>158</sup>, Keith E. Steele<sup>140</sup>, Kenneth Emancipator<sup>148</sup>, Khalid AbdulJabbar<sup>159</sup>, Khalid El Bairi<sup>160</sup>, Kim R.M. Blenman<sup>161</sup>, Kimberly H. Allison<sup>162</sup>, Konstanty Korski<sup>163</sup>, Lajos Pusztai<sup>161</sup>, Laura Comerma<sup>164</sup><sup>, </sup><sup>106</sup>, Laurence Buisseret<sup>157</sup>, Lee A.D. Cooper<sup>165</sup>, Leming Shi<sup>166</sup>, Liu Shi-wei<sup>167</sup>, Loes F.S. Kooreman<sup>168</sup>, Luciana Molinero<sup>109</sup>, M. Valeria Estrada<sup>169</sup>, Magali Lacroix-Triki<sup>170</sup>, Maise al Bakir<sup>78</sup>, Manu M. Sebastian<sup>171</sup>, Marc van de Vijver<sup>172</sup>, Marcelo Luiz Balancin<sup>173</sup><sup>, </sup><sup>174</sup>, Maria Vittoria Dieci<sup>175</sup>, Marie-Christine Mathieu<sup>176</sup>, Marlon C. Rebelatto<sup>140</sup>, Martine Piccart<sup>177</sup>, Matthew G. Hanna<sup>92</sup>, Matthew P. Goetz<sup>93</sup>, Matthias Preusser<sup>146</sup>, Mehrnoush Khojasteh<sup>178</sup>, Melinda E. Sanders<sup>179</sup>, Meredith M. Regan<sup>180</sup><sup>, </sup><sup>181</sup>, Michael Barnes<sup>182</sup>, Michael Christie<sup>183</sup>, Michael Misialek<sup>184</sup>, Michail Ignatiadis<sup>185</sup>, Mieke van Bockstal<sup>186</sup>, Miluska Castillo<sup>71</sup>, Mohamed Amgad<sup>187</sup>, Nadia Harbeck<sup>188</sup>, Nadine Tung<sup>189</sup>, Nele Laudus<sup>190</sup>, Nicolas Sirtaine<sup>191</sup>, Nicole Burchardi<sup>192</sup>, Nils Ternes<sup>14</sup>, Nina Radosevic-Robin<sup>193</sup>, Oleg Gluz<sup>194</sup>, Oliver Grimm<sup>101</sup>, Paolo Nuciforo<sup>195</sup>, Paul Jank<sup>196</sup>, Paula Gonzalez-Ericsson<sup>197</sup>, Pawan Kirtani<sup>198</sup>, Petar Jelinic<sup>148</sup>, Peter H. Watson<sup>199</sup>, Peter Savas<sup>24</sup><sup>, </sup><sup>200</sup>, Prudence A Francis<sup>201</sup><sup>, </sup><sup>202</sup>, Prudence A. Russell<sup>203</sup>, Rajendra Singh<sup>204</sup>, Rim S. Kim<sup>205</sup>, Robert H. Pierce<sup>206</sup>, Robert Hills<sup>207</sup>, Roberto Leon-Ferre<sup>93</sup>, Roland de Wind<sup>191</sup>, Ruohong Shui<sup>208</sup>, Sabine Declercq<sup>209</sup>, Sam Leung<sup>210</sup>, Sami Tabbarah<sup>211</sup>, Sandra C Souza<sup>212</sup>, Sandra O’Toole<sup>213</sup>, Sandra Swain<sup>214</sup>, Sarah Dudgeon<sup>215</sup>, Scooter Willis<sup>216</sup>, Scott Ely<sup>217</sup>, Seong- Rim Kim<sup>218</sup>, Shahinaz Bedri<sup>219</sup>, Sheeba Irshad<sup>220</sup><sup>, </sup><sup>221</sup>, Shi-Wei Liu<sup>222</sup>, Shom Goel<sup>202</sup><sup>, </sup><sup>201</sup>, Shona Hendry<sup>223</sup>, Simonetta Bianchi<sup>224</sup>, Sofia Bragança<sup>225</sup>, Soonmyung Paik<sup>61</sup>, Stephan Wienert<sup>226</sup>, Stephen B. Fox<sup>223</sup>, Stephen J. Luen<sup>24</sup>, Stephen Naber<sup>227</sup>, Stuart J. Schnitt<sup>30</sup><sup>, </sup><sup>228</sup>, Sua Luz<sup>229</sup>, Sunil R. Lakhani<sup>230</sup>, Susan Fineberg<sup>231</sup>, Teresa Soler<sup>232</sup>, Thomas Gevaert<sup>233</sup>, Timothy d’Alfons<sup>234</sup>, Tom John<sup>235</sup>, Tomohagu Sugie<sup>236</sup>, Uday Kurkure<sup>237</sup>, Veerle Bossuyt<sup>238</sup>, Venkata Manem<sup>65</sup>, Vincente Peg Cámaea<sup>239</sup>, Weida Tong<sup>240</sup>, Weijie Chen<sup>69</sup>, Wentao Yang<sup>208</sup>, William T. Tran<sup>211</sup>, Yihong Wang<sup>241</sup>, Yinyin Yuan<sup>159</sup>, Yves Allory<sup>242</sup>, Zaheed Husain<sup>243</sup>, Zsuzsanna Bago-Horvath<sup>244</sup><br /> <br /><b>Working Group affiliations:</b><br /><sup>37 </sup>Department of Oral and Maxillofacial Diseases, Helsinki, Finland, <sup>38 </sup>Department of Pathology, Matsuyama Shimin Hospital, Matsuyama, Japan., <sup>39 </sup>Surgical Oncology, Baylor College of Medicine, Texas, USA., <sup>40 </sup>Roche Diagnostics, Belg, <sup>41 </sup>Departments of Pathology, Genomic Medicine, Dermatology, and Translational Molecular Pathology, The University of Texas MD Anderson Cancer Center, Houston, TX, USA, <sup>42 </sup>PhenoPath Laboratories, Seattle, USA., <sup>43 </sup>Research Pathology, Genentech Inc., South San Francisco, USA., <sup>44 </sup>University of Turin / Candiolo Cancer Institute - FPO, IRCCS, Candiolo, Italy, <sup>45 </sup>Case Western Reserve University, Cleveland, Ohio, USA, <sup>46 </sup>Louis Stokes Cleveland Veterans Health Administration Medical Center, Cleveland, Ohio, USA, <sup>47 </sup>Pulmonary Pathology, New York University Center for Biospecimen Research and Development, New York University, New York, New York, USA., <sup>48 </sup>Department of Pathology, Johns Hopkins Hospital, Baltimore, USA., <sup>49 </sup>Department of Pathology, Istituto Europeo di Oncologia, University of Milan, Milan, Italy., <sup>50 </sup>PathAI, Inc., Cambridge, USA, <sup>51 </sup>Department of Pathology, University of Iowa Hospitals and Clinics, Iowa City, USA., <sup>52 </sup>Department of Oncology, IVO Valencia, Spain., <sup>53 </sup>Cancer Bioinformatics Lab, Cancer Centre at Guy’s Hospital, London, UK, <sup>54 </sup>School of Life Sciences and Medicine, King’s College London, London, UK, <sup>55 </sup>Lund University, Skane University Hospital, Department of Clinical Sciences Lund, Oncology and Pathology, Lund, Sweden, <sup>56 </sup>Dana Farber Cancer Institute, Boston, USA., <sup>57 </sup>Institut Curie, Paris Sciences Lettres Université, Inserm U934, Department of Pathology, Paris, France., <sup>58 </sup>Department of Surgical Pathology Zealand University Hospital, Demark, <sup>59 </sup>Department of Biomedical Informatics, Emory University, GA, USA, <sup>60 </sup>Departments of Pathology and Oncology, The Johns Hopkins Hospital, Baltimore, USA., <sup>61 </sup>National Surgical Adjuvant Breast and Bowel Project Operations Center/NRG Oncology, Pittsburgh, Pennsylvania, USA., <sup>62 </sup>Department of Pathology, Karolinska Institute, Sweden, <sup>63 </sup>Department of Pathology, New York University Langone Medical Centre, New York, USA., <sup>64 </sup>Department of Pathology and Laboratory Medicine, UNC School of Medicine, USA., <sup>65 </sup>Bioinformatics and Computational Genomics Laboratory, Princess Margaret Cancer Center, Toronto, Canada., <sup>66 </sup>Department of Medical Oncology, Peter MacCallum Cancer Centre, Melbourne, VIC, Australia., <sup>67 </sup>Department of Medicine, University of Melbourne, Parkville, Australia., <sup>68 </sup>Trev & Joyce Deeley Research Centre, British Columbia Cancer Agency, Victoria, Canada., <sup>69 </sup>Division of Imaging, Diagnostics, and Software Reliability (DIDSR), Office of Science and Engineering Laboratories (OSEL), Center for Devices and Radiological Health (CDRH), Rockville, USA, <sup>70 </sup>Department of Research, Instituto Nacional de Enfermedades Neoplásicas, Lima, Perú., <sup>71 </sup>Department of Research, Instituto Nacional de Enfermedades Neoplasicas, Lima 15038, Peru, <sup>72 </sup>Providence Cancer Research Center, Portland, Oregon, USA., <sup>73 </sup>Department of Medical Oncology, Istituto Europeo di Oncologia, Milan, Italy., <sup>74 </sup>Roche Diagnostics, Belgium., <sup>75 </sup>Department of Pathology, AZ Turnhout, Turnhout, Belgium., <sup>76 </sup>Department of Pathology, St Vincent's University Hospital and University College Dublin, Dublin, Ireland, <sup>77 </sup>Department of Computational and Systems Biology, University of Pittsburgh, USA., <sup>78 </sup>Cancer Research UK Lung Cancer Centre of Excellence, University College London Cancer Institute, University College London, London, UK, <sup>79 </sup>Azienda AUSL, Regional Hospital of Aosta, Aosta, Italy, <sup>80 </sup>Université Paris-Sud, Institut National de la Santé et de la Recherche Médicale, Villejuif, France, <sup>81 </sup>Gustave Roussy, Universite Paris-Saclay, Villejuif, France, <sup>82 </sup>University Hospital Halle (Saale), Institute of Pathology, Halle (Saale), Germany, <sup>83 </sup>Department of Pathology, UCL Cancer Institute, UCL, London, UK, <sup>84 </sup>University College Hospitals NHS Trust, London, UK., <sup>85 </sup>Department of Pathology, Jules Bordet Institute, Brussels, Belgium, <sup>86 </sup>Department of Clinical Medicine, Macquarie University, Sydney, Australia, <sup>87 </sup>HistoGeneX NV, Antwerp, Belgium and AZ Sint-Maarten Hospital, Mechelen, Belgium., <sup>88 </sup>Oncology Clinical Development, Bristol-Myers Squibb, Princeton, USA., <sup>89 </sup>Institut für Pathologie , UK Hamburg, Germany., <sup>90 </sup>Department of Medicine, Vanderbilt University Medical Centre, Nashville, USA., <sup>91 </sup>Department of Cancer Biology, Mayo Clinic, Jacksonville, USA., <sup>92 </sup>Department of Pathology, Memorial Sloan Kettering Cancer Center, New York, NY, USA, <sup>93 </sup>Department of Oncology, Mayo Clinic, Rochester, USA., <sup>94 </sup>Roche, Tucson, USA, <sup>95 </sup>Department of Pathology, Herlev and Gentofte Hospital, Denmark, <sup>96 </sup>Université Paris-Saclay, Univ. Paris-Sud, Villejuif, France, <sup>97 </sup>Service de biostatistique et d’épidémiologie, Gustave Roussy, Villejuif, France, <sup>98 </sup>Department of Pathology, Universidad de La Frontera, Temuco, Chile., <sup>99 </sup>Departamento de Anatomía Patológica, Universidad de La Frontera. Temuco, Chile, <sup>100 </sup>Tumor Pathology Department, Maria Sklodowska-Curie Memorial Cancer Center, Gliwice, Poland., <sup>101 </sup>Pathology and Tissue Analytics, Roche., <sup>102 </sup>Department of Medical Oncology, Gustave Roussy, Villejuif, France., <sup>103 </sup>Sunnybrook Health Sciences Centre, Toronto, Canada, <sup>104 </sup>Tehran University of Medical Sciences, Iran., <sup>105 </sup>Pathology Department, Instituto de Investigación Sanitaria Fundación Jiménez Díaz (IIS-FJD), Madrid, Spain, <sup>106 </sup>GEICAM-Spanish Breast Cancer Research Group, Madrid, Spain, <sup>107 </sup>Translational Research, Montreal, Canada., <sup>108 </sup>Computational Pathology Group, Department of Pathology, Radboud University Medical Center, Nijmegen, Netherlands., <sup>109 </sup>Oncology Biomarker Development, Genentech-Roche., <sup>110 </sup>Division of Medical Oncology, Department of Medicine, University of Colorado Anschutz Medical Campus, Aurora, USA., <sup>111 </sup>Centre de Lutte Contre le cancer - Centre Jean Perrin, Clermont-Ferrand, France, <sup>112 </sup>Department of Pathology, Hospital de Oncología Maria Curie, Buenos Aires, Argentina, <sup>113 </sup>Directorate of Surgical Pathology, SA Pathology, Adelaide, Australia., <sup>114 </sup>Department of Pathology, GZA-ZNA Ziekenhuizen, Wilrijk, Belgium., <sup>115 </sup>University of Milano, Istituto Europeo di Oncologia, IRCCS, Milano, Italy, <sup>116 </sup>Division of Early Drug Development for Innovative Therapy, IEO, European Institute of Oncology IRCCS, Milan, Italy, <sup>117 </sup>Department of Imaging and Pathology, Laboratory of Translational Cell & Tissue Research, Leuven, Belgium, <sup>118 </sup>KU Leuven- University Hospitals Leuven, Department of Pathology, Leuven, Belgium, <sup>119 </sup>Department of Pathology, University Hospital Antwerp, Belgium., <sup>120 </sup>Paula I, Breast Cancer Research Program, Vanderbilt University Medical Center, Nashville, USA., <sup>121 </sup>Translational Health Sciences, Department of Cellular Pathology, North Bristol NHS Trust, University of Bristol, UK, <sup>122 </sup>Medical Oncology, Department of Medicine, Cedars-Sinai Medical Center, Los Angeles, USA, <sup>123 </sup>Helsinki University Central Hospital, Helsinki, Finland, <sup>124 </sup>Department of Clinical Pathology, Akademiska University Hospital, Uppsala, Sweden, <sup>125 </sup>Department of Pathology, National Taiwan University Hospital, Taipei, Taiwan, <sup>126 </sup>Department of Oncology, National Taiwan University Cancer Center, Taipei, Taiwan, <sup>127 </sup>Graduate Institute of Oncology, College of Medicine, National Taiwan University, Taipei, Taiwan), <sup>128 </sup>International Agency for Research on Cancer (IARC), World Health Organization, Lyon, France., <sup>129 </sup>Department of Pathology, Sanatorio Mater Dei, Buenos Aires, Argentina., <sup>130 </sup>Institute of Pathology, Medical University of Graz, Austria., <sup>131 </sup>Department of Oncology, National Cancer Centre, Singapore., <sup>132 </sup>Department of Pathology, Brigham and Women’s Hospital, Boston, USA., <sup>133 </sup>Department of Pathology, Netherlands Cancer Institute, Amsterdam, The Netherlands., <sup>134 </sup>PathAI Inc., Cambridge, USA, <sup>135 </sup>Visiopharm A/S, Denmark, <sup>136 </sup>DTU Compute, Department of Applied Mathematics, Technical University of Denmark, <sup>137 </sup>Nuffield Department of Population Health, University of Oxford, Oxford, UK, <sup>138 </sup>Department of Medical Oncology, University Hospitals Bristol NHS Foundation Trust, Bristol, UK, <sup>139 </sup>R&D UNICANCER, Paris, France, <sup>140 </sup>Translational Sciences, MedImmune, Gaithersberg, USA., <sup>141 </sup>Breast Unit, Champalimaud Clinical Centre, Lisboa, Portugal, <sup>142 </sup>Department of Pathology, Massachusetts General Hospital, Boston, MA, USA, <sup>143 </sup>Department of Laboratory Medicine and Pathology, Mayo Clinic, Rochester, USA., <sup>144 </sup>Biomedical Informatics Department, Stony Brook University, Stony Brook, USA, <sup>145 </sup>Department of Oncology and Pathology, Karolinska Institutet and University Hospital, Solna, Sweden, <sup>146 </sup>Department of Medicine, Clinical Division of Oncology, Comprehensive Cancer Centre Vienna, Medical University of Vienna, Vienna, Austria., <sup>147 </sup>Leicester Cancer Research Centre, University of Leicester, Leicester, and MRC Toxicology Unit, University of Cambridge, UK., <sup>148 </sup>Merck & Co., Inc., Kenilworth, USA., <sup>149 </sup>Human Oncology and Pathogenesis Program, Memorial Sloan Kettering Cancer Center, New York, NY, USA, <sup>150 </sup>Department of Research, Instituto Nacional de Enfermedades Neoplasicas, Lima 15038, Peru., <sup>151 </sup>Department of Medicine, Department of Obstetrics & Gynecology and Women’s Health, Albert Einstein Medical Center, Bronx, USA., <sup>152 </sup>GHI Le Raincy-Montfermeil, Chelles, Île-de-France, France, <sup>153 </sup>Department of Pathology, Gustave Roussy, Grand Paris, France., <sup>154 </sup>Departments of Medicine and Cancer Biology, Vanderbilt University Medical Centre, Nashville, USA., <sup>155 </sup>Vm Scope, Germany., <sup>156 </sup>Department of Pathology, Breast Pathology Section, Northwestern University, Chicago, USA., <sup>157 </sup>Molecular Immunology Unit, Institut Jules Bordet, Université Libre de Bruxelles, Brussels, Belgium., <sup>158 </sup>NSABP/NRG Oncology, Pittsburgh, PA, USA, <sup>159 </sup>Division of Molecular Pathology, Centre for Evolution and Cancer, The Institute of Cancer Research, London, UK, <sup>160 </sup>Cancer Biomarkers Working Group, Faculty of Medicine and Pharmacy, Université Mohamed Premier, Oujda, Morocco., <sup>161 </sup>Yale Cancer Center Genetics, Genomics and Epigenetics Program, Yale School of Medicine, New Haven, CT , USA, <sup>162 </sup>Pathology Department, Stanford University Medical Centre, Stanford, USA., <sup>163 </sup>Pathology and Tissue Analytics, Roche Innovation Centre Munich, Penzberg, Germany, <sup>164 </sup>Pathology Department, Hospital del Mar, Parc de Salut Mar, Barcelona, Spain, <sup>165 </sup>Department of Pathology, Northwestern University Feinberg School of Medicine, Chicago, IL, <sup>166 </sup>Center for Pharmacogenomics and Fudan-Zhangjiang, Center for Clinical Genomics School of Life Sciences and Shanghai Cancer Center, Fudan University, China., <sup>167 </sup>Sichuan Cancer Hospital, Chengdu, China., <sup>168 </sup>GROW - School for Oncology and Developmental Biology, Maastricht University Medical Centre and Department of Pathology, Maastricht University Medical Centre, Maastricht, The Netherlands, <sup>169 </sup>Biorepository and Tissue Technology Shared Resources, University of California San Diego, USA., <sup>170 </sup>Department of Pathology, Gustave Roussy, Villejuif, France., <sup>171 </sup>Departments of Epigenetics and Molecular Carcinogenesis, The University of Texas MD Anderson Cancer Center, Houston, TX, USA, <sup>172 </sup>Department of Pathology, Academic Medical Center, Amsterdam, The Netherlands., <sup>173 </sup>Department of Pathology, University of São Paulo, São Paulo, Brazil., <sup>174 </sup>Hospital das Clínicas, Sao Paulo, Brasil, <sup>175 </sup>Department of Surgery, Oncology and Gastroenterology, University of Padova, Padua, Italy., <sup>176 </sup>Department of Medical Biology and Pathology, Gustave Roussy Cancer Campus, Villejuif, France, <sup>177 </sup>Institut Jules Bordet, Universite Libre de Bruxelles, Brussels, Belgium, <sup>178 </sup>Roche Tissue Diagnostics, Digital Pathology, Santa Clara, CA, USA, <sup>179 </sup>Department of Pathology, Microbiology and Immunology, Vanderbilt University Medical Centre, Nashville, USA., <sup>180 </sup>Division of Biostatistics, Dana-Farber Cancer Institute, Boston, USA, <sup>181 </sup>Harvard Medical School, Boston, USA, <sup>182 </sup>Roche Diagnostics Information Solutions, Belmont, CA, USA, <sup>183 </sup>Department of Anatomical Pathology, Royal Melbourne Hospital, Parkville, Australia., <sup>184 </sup>Vernon Cancer Center, Newton-Wellesley Hospital, Newton, USA., <sup>185 </sup>Department of Medical Oncology, Institut Jules Bordet, Université Libre de Bruxelles, Brussels, Belgium., <sup>186 </sup>Service de pathologique, Cliniques universitaires Saint-Luc, Bruxelles, Belgique, <sup>187 </sup>Department of Biomedical Informatics, Emory University School of Medicine, Atlanta, GA, <sup>188 </sup>Breast Center, Dept. OB&GYN and CCC (LMU), University of Munich, Munich, Germany., <sup>189 </sup>Division of Hematology-Oncology, Beth Israel Deaconess Medical Center, Boston, USA., <sup>190 </sup>University of Leuven, Belgium., <sup>191 </sup>Department of Pathology, Institut Jules Bordet, Université Libre de Bruxelles, Brussels, Belgium., <sup>192 </sup>German Breast Group GmbH, Germany., <sup>193 </sup>Department of Surgical Pathology and Biopathology, Jean Perrin Comprehensive Cancer Centre, Clermont-Ferrand, France., <sup>194 </sup>Johanniter GmbH - Evangelisches Krankenhaus Bethesda Mönchengladbach, West German Study Group, Mönchengladbach, Germany., <sup>195 </sup>Molecular Oncology Group, Vall d’Hebron Institute of Oncology, Barcelona, Spain., <sup>196 </sup>Department of Pathology, University of Marburg, Marburg, Germany., <sup>197 </sup>Breast Cancer Program, Vanderbilt-Ingram Cancer Center, Vanderbilt University Medical Center, Nashville, Tennessee, <sup>198 </sup>Department of Histopathology, Manipal Hospitals Dwarka, New Delhi, India, <sup>199 </sup>Department of Pathology and Laboratory Medicine, University of British Columbia,, <sup>200 </sup>The Sir Peter MacCallum Department of Oncology, University of Melbourne, Melbourne, Victoria, Australia, <sup>201 </sup>Peter MacCallum Cancer Centre, Melbourne, Victoria, Australia, <sup>202 </sup>Sir Peter MacCallum Department of Oncology, University of Melbourne, Melbourne, Victoria, Australia, <sup>203 </sup>Department of Anatomical Pathology, St Vincent’s Hospital Melbourne, Fitzroy, Australia., <sup>204 </sup>Icahn School of Medicine at Mt. Sinai, New York, NY, USA., <sup>205 </sup>NRG Oncology/NSABP, Pittsburgh, PA, USA, <sup>206 </sup>Cancer Immunotherapy Trials Network, Central Laboratory and Program in Immunology, Fred Hutchinson Cancer Research Center, Seattle, USA., <sup>207 </sup>Clinical Trial Service Unit & Epidemiological Studies Unit, University of Oxford, UK., <sup>208 </sup>Department of Pathology, Fudan University Cancer Center, China., <sup>209 </sup>Department of Pathology, GZA-ZNA Hospitals, Antwerp, Belgium, <sup>210 </sup>University of British Columbia, Vancouver, British Columbia, Canada., <sup>211 </sup>Department of Radiation Oncology, Odette Cancer Centre, Sunnybrook Research Institute, Toronto, Canada, <sup>212 </sup>Oncology Merck & Co, New Jersey, USA, <sup>213 </sup>The Cancer Research Program, Garvan Institute of Medical Research, Darlinghurst, Australian Clinical Labs, Australia., <sup>214 </sup>Georgetown University Medical Center, Washington DC, USA., <sup>215 </sup>FDA/CDRH/OSEL/Division of Imaging, Diagnostics, and Software Reliability, Silver Spring, USA, <sup>216 </sup>Department of Molecular and Experimental Medicine, Avera Cancer Institute, Sioux Falls, SD, USA., <sup>217 </sup>Translational Medicine, Bristol-Myers Squibb, Princeton, USA., <sup>218 </sup>National Surgical Adjuvant Breast and Bowel Project Operations Center/NRG Oncology, Pittsburgh, USA, <sup>219 </sup>Anatomic Pathology, Boston, Massachusetts, USA., <sup>220 </sup>Guy’s Hospital, London, UK, <sup>221 </sup>King’s College London, London, UK, <sup>222 </sup>Peking University First Hospital Breast Disease Center, Beijing, China., <sup>223 </sup>Department of Pathology, Peter MacCallum Cancer Centre, Melbourne, Australia., <sup>224 </sup>Dipartimento di Scienze della Salute (DSS), Firenze, Italy., <sup>225 </sup>Department of Oncology, Champalimaud Clinical Centre, Lisbon, Portugal., <sup>226 </sup>Charité - Universitätsmedizin Berlin, corporate member of Freie Universität Berlin, Humboldt-Universität zu Berlin, and Berlin Institute of Health, Institute of Pathology, Charitéplatz 1, 10117 Berlin, Germany, <sup>227 </sup>Department of Pathology and Laboratory Medicine, Tufts Medical Center, USA, <sup>228 </sup>Dana-Farber Cancer Institute, Boston, MA, USA., <sup>229 </sup>Department of Pathology, Fundación Valle del Lili, Cali, Colombia., <sup>230 </sup>The University of Queensland Centre for Clinical Research and Pathology Queensland, Brisbane, Australia, <sup>231 </sup>Department of Pathology, Montefiore Medical Center and the Albert Einstein College of Medicine, Bronx, NY, USA, <sup>232 </sup>Department of Pathology, University Hospital of Bellvitge, Oncobell, IDIBELL, L'Hospitalet del Llobregat, Barcelona 08908, Catalonia, Spain, <sup>233 </sup>Department of Development and Regeneration, Laboratory of Experimental Urology, KU Leuven, Leuven, Belgium., <sup>234 </sup>Department of Pathology, Memorial Sloan Kettering Cancer Center, New York, NY, USA., <sup>235 </sup>Department of Medical Oncology, Austin Health, Heidelberg, Australia., <sup>236 </sup>Department of Surgery, Kansai Medical School, Hirakata, Japan., <sup>237 </sup>Roche Tissue Diagnostics, Digital Pathology, Santa Clara, CA, USA., <sup>238 </sup>Department of Pathology, Massachusetts General Hospital, USA., <sup>239 </sup>Pathology Department, H.U. Vall d’Hebron, Barcelona, Spain., <sup>240 </sup>Division of Bioinformatics and Biostatistics, U.S. Food and Drug Administration, USA., <sup>241 </sup>Department of Pathology and Laboratory Medicine, Rhode Island Hospital and Lifespan Medical Center, Providence, USA., <sup>242 </sup>Université Paris-Est, Créteil, France., <sup>243 </sup>Praava Health, Dhaka, Bangladesh, <sup>244 </sup>Department of Pathology, Medical University of Vienna, Vienna, Austria"
     },
     "metadata": {},
     "output_type": "execute_result",
     "execution_count": 9
    }
   ]
  },
  {
   "cell_type": "code",
   "execution_count": 9,
   "outputs": [],
   "source": [],
   "metadata": {
    "collapsed": false,
    "pycharm": {
     "name": "#%%\n",
     "is_executing": false
    }
   }
  }
 ],
 "metadata": {
  "kernelspec": {
   "display_name": "Python 3",
   "language": "python",
   "name": "python3"
  },
  "language_info": {
   "codemirror_mode": {
    "name": "ipython",
    "version": 2
   },
   "file_extension": ".py",
   "mimetype": "text/x-python",
   "name": "python",
   "nbconvert_exporter": "python",
   "pygments_lexer": "ipython2",
   "version": "2.7.6"
  },
  "pycharm": {
   "stem_cell": {
    "cell_type": "raw",
    "source": [],
    "metadata": {
     "collapsed": false
    }
   }
  }
 },
 "nbformat": 4,
 "nbformat_minor": 0
}
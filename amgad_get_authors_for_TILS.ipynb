{
 "cells": [
  {
   "cell_type": "markdown",
   "source": [
    "# Get authors for TILS-WG"
   ],
   "metadata": {
    "collapsed": false
   }
  },
  {
   "cell_type": "code",
   "execution_count": 1,
   "outputs": [],
   "source": [
    "import os\n",
    "from pandas import DataFrame, read_csv, concat"
   ],
   "metadata": {
    "collapsed": false,
    "pycharm": {
     "name": "#%%\n",
     "is_executing": false
    }
   }
  },
  {
   "cell_type": "markdown",
   "source": [
    "## Ground work\n",
    "\n",
    "#### Read files"
   ],
   "metadata": {
    "collapsed": false
   }
  },
  {
   "cell_type": "code",
   "execution_count": 2,
   "outputs": [],
   "source": [
    "paper = \"amgad\"\n",
    "\n",
    "# This is the big working group csv file\n",
    "TILWG = read_csv('./TILWG.csv')\n",
    "\n",
    "# These are my authors and affiliations\n",
    "with open('./%s_authors.txt' % paper, 'r') as f:\n",
    "    MY_AUTHORS = f.read()\n",
    "    MY_AUTHORS = MY_AUTHORS.splitlines()\n",
    "\n",
    "with open('./%s_affiliations.txt' % paper, 'r') as f:\n",
    "    MY_AFFILIATIONS = f.read()\n",
    "    MY_AFFILIATIONS = MY_AFFILIATIONS.splitlines()"
   ],
   "metadata": {
    "collapsed": false,
    "pycharm": {
     "name": "#%%\n",
     "is_executing": false
    }
   }
  },
  {
   "cell_type": "markdown",
   "source": [
    "#### Some clanup, quality checks, etc. etc."
   ],
   "metadata": {
    "collapsed": false
   }
  },
  {
   "cell_type": "code",
   "execution_count": 3,
   "outputs": [],
   "source": [
    "# This is list of my authors (just author names)\n",
    "my_authors = [\n",
    "    [k.strip() for k in j.split(' | ')] for j in MY_AUTHORS] \n",
    "\n",
    "# same for big WG\n",
    "tilwg_authors = [str(j).strip() for j in list(TILWG.loc[:, 'auth'])] \n",
    "TILWG.loc[:, 'auth'] = tilwg_authors"
   ],
   "metadata": {
    "collapsed": false,
    "pycharm": {
     "name": "#%%\n",
     "is_executing": false
    }
   }
  },
  {
   "cell_type": "code",
   "execution_count": 4,
   "outputs": [],
   "source": [
    "# DATA INTEGRITY CHECK!!!!!!\n",
    "# find commmon authors, keeping in mind there might be some different\n",
    "# capitalization & middle initials\n",
    "\n",
    "def _get_common_authors():\n",
    "    common_authors = tilwg_authors.copy()\n",
    "    nchar1 = 3\n",
    "    nchar2 = 4\n",
    "    # union is a dict where keys are full-wg spelling, and values\n",
    "    # are my spelling.\n",
    "    union = dict()\n",
    "    manual = []\n",
    "    for smy, _ in my_authors:\n",
    "        my = [j.lower() for j in smy.strip().split(' ')]\n",
    "        matched = False\n",
    "        for sfull in tilwg_authors:\n",
    "            full = [j.lower() for j in sfull.strip().split(' ')]\n",
    "            first = my[0][:nchar1] == full[0][:nchar1]\n",
    "            last = my[-1][:nchar2] == full[-1][:nchar2]\n",
    "            if first and last:\n",
    "                common_authors.remove(sfull)\n",
    "                union[sfull] = smy\n",
    "                matched = True\n",
    "        if not matched:\n",
    "            manual.append(smy)\n",
    "    manual = list(set(manual))\n",
    "    return union, manual\n",
    "\n",
    "def _sanity_checks():\n",
    "    assert(len(union) == len(my_authors)), \\\n",
    "        \"Suspiciously duplicate authors found in main TIL-WG!\"\n",
    "    assert(len(manual) == 0), \"These authors need manual fixing: %s\" % manual\n",
    "    \n",
    "    # print authors with misspellings -- my author list is reference point\n",
    "    need_updating = [v for k, v in union.items() if k != v]\n",
    "    if len(need_updating) > 0:\n",
    "        print(\"The following authors are misspelt in main TIL-WG:\")\n",
    "        print(\"\\n\".join(need_updating))\n",
    "\n",
    "# ideally, manual should be empty since all out authors are TILs-WG member\n",
    "# if not you should manually fix those in manual\n",
    "union, manual = _get_common_authors()\n",
    "need_updating = _sanity_checks()"
   ],
   "metadata": {
    "collapsed": false,
    "pycharm": {
     "name": "#%%\n",
     "is_executing": false
    }
   }
  },
  {
   "cell_type": "markdown",
   "source": [
    "#### Combine author and member lists"
   ],
   "metadata": {
    "collapsed": false
   }
  },
  {
   "cell_type": "code",
   "execution_count": 5,
   "outputs": [
    {
     "name": "stderr",
     "text": [
      "/home/mtageld/anaconda3/envs/wsi/lib/python3.6/site-packages/ipykernel_launcher.py:7: SettingWithCopyWarning: \n",
      "A value is trying to be set on a copy of a slice from a DataFrame\n",
      "\n",
      "See the caveats in the documentation: http://pandas.pydata.org/pandas-docs/stable/user_guide/indexing.html#returning-a-view-versus-a-copy\n",
      "  import sys\n"
     ],
     "output_type": "stream"
    }
   ],
   "source": [
    "def _combine_author_and_member_tables():\n",
    "    \n",
    "    # remove authors from the full-wg already in author list\n",
    "    tilwg = TILWG.loc[~TILWG.loc[:, 'auth'].isin(union.keys()), :]\n",
    "    \n",
    "    # now sort non-author member alphabetically as journal wants\n",
    "    tilwg.sort_values('auth', inplace=True, ascending=True)\n",
    "    \n",
    "    # dict mapping affiliation number strings and institutions\n",
    "    my_affiliations = dict()\n",
    "    for aff in MY_AFFILIATIONS:\n",
    "        start = aff.find('.')\n",
    "        my_affiliations[aff[:start].strip()] = aff[start + 1:].strip()\n",
    "    \n",
    "    # create a dataframe for my authors in the same form as main group\n",
    "    my_df = DataFrame(columns=('auth', 'affil')) \n",
    "    for smy, affs in my_authors:\n",
    "        afflist = [j.strip() for j in affs.split(',')]\n",
    "        for aff in afflist:\n",
    "            pos = my_df.shape[0]\n",
    "            my_df.loc[pos, 'auth'] = smy\n",
    "            my_df.loc[pos, 'affil'] = my_affiliations[aff]\n",
    "    \n",
    "    # now concat the two to form the big list\n",
    "    # It's important we do things this way to preserve the order of authors\n",
    "    FULLDF = concat((my_df, tilwg), 0, ignore_index=True)\n",
    "    first_member = len(my_df)\n",
    "\n",
    "    return FULLDF, first_member\n",
    "\n",
    "FULLDF, first_member = _combine_author_and_member_tables()"
   ],
   "metadata": {
    "collapsed": false,
    "pycharm": {
     "name": "#%%\n",
     "is_executing": false
    }
   }
  },
  {
   "cell_type": "markdown",
   "source": [
    "#### Inspect + standardize affiliations"
   ],
   "metadata": {
    "collapsed": false
   }
  },
  {
   "cell_type": "code",
   "execution_count": 6,
   "outputs": [
    {
     "name": "stdout",
     "text": [
      "There are 14 suspiciously similar affiliations that WILL BE MERGED:\n",
      "\n",
      "Gustave Roussy, Universite Paris-Saclay, Villejuif, France\n",
      "Gustave Roussy, Université Paris-Saclay, Villejuif, France \n",
      "\n",
      "Department of Pathology, Universidad de la Frontera, Temuco, Chile\n",
      "Department of Pathology, Universidad de La Frontera, Temuco, Chile. \n",
      "\n",
      "Department of Pathology, GZA-ZNA Ziekenhuizen, Antwerp, Belgium\n",
      "Department of Pathology, GZA-ZNA Ziekenhuizen, Wilrijk, Belgium. \n",
      "\n",
      "Molecular Immunology Unit, Institut Jules Bordet, Brussels, Belgium.\n",
      "Molecular Immunology Unit, Institut Jules Bordet, Université Libre de Bruxelles, Brussels, Belgium. \n",
      "\n",
      "Department of Pathology, Yale School of Medicine, New Haven, USA\n",
      "Department of Pathology, Yale University School of Medicine, New Haven, CT, USA \n",
      "\n",
      "Division of Research, Peter Mac Callum Cancer Center, Melbourne, Victoria, Australia\n",
      "Division of Research and Cancer Medicine, Peter MacCallum Cancer Centre, University of Melbourne, Victoria, Australia \n",
      "\n",
      "Department of Pathology, Matsuyama Shimin Hospital, Ehime, Japan\n",
      "Department of Pathology, Matsuyama Shimin Hospital, Matsuyama, Japan. \n",
      "\n",
      "Pathology Department, CIBERONC-Hospital del Mar, Parc de Salut Mar, Barcelona, Spain\n",
      "Pathology Department, CIBERONC-Instituto de Investigación Sanitaria Fundación Jiménez Díaz (IIS-FJD), Madrid, Spain \n",
      "\n",
      "Department of Pathology, Institut Jules Bordet, Brussels, Belgium.\n",
      "Department of Pathology, Institut Jules Bordet, Université Libre de Bruxelles, Brussels, Belgium. \n",
      "\n",
      "Department of Oncology, National Taiwan University, Taipei, Taiwan\n",
      "Department of Oncology, National Taiwan University Cancer Center, Taipei, Taiwan \n",
      "\n",
      "University of British Columbia, Vancouver, British Columbia, Canada\n",
      "University of British Columbia, Vancouver, British Columbia, Canada. \n",
      "\n",
      "Gustave Roussy, Université Paris-Saclay, Villejuif, France\n",
      "Gustave Roussy, Universite Paris-Saclay, Villejuif, France \n",
      "\n",
      "Department of Medical Oncology, Peter MacCallum Cancer Centre, Melbourne, Australia.\n",
      "Department of Medical Oncology, Peter MacCallum Cancer Centre, Melbourne, VIC, Australia. \n",
      "\n",
      "Institut für Pathologie, Universitätsklinikum Gießen und Marburg GmbH, Standort Marburg, Philipps-Universität Marburg, Marburg, Germany\n",
      "Institut für Pathologie, Universitätsklinikum Gießen und Marburg GmbH, Standort Marburg, Philipps-Universität Marburg, Marburg, Germany. \n",
      "\n"
     ],
     "output_type": "stream"
    }
   ],
   "source": [
    "# affiliations that we KNOW are not duplicted. This is determined\n",
    "# post-hoc after running the function below and manually inspecting results \n",
    "NOT_SUSPICIOUS = [\n",
    "    'Department of Pathology, University Hospital Ghent, Belgium.',\n",
    "    'Department of Pathology, Gustave Roussy, Grand Paris, France.',\n",
    "    'Department of Pathology, GZA-ZNA Hospitals, Antwerp, Belgium',\n",
    "    'Department of Medical Oncology, Gustave Roussy, Villejuif, France.',\n",
    "    'Division of Molecular Pathology, The Netherlands Cancer Institute, '\n",
    "        + 'Amsterdam, the Netherlands',\n",
    "    'Department of Medical Oncology, Gustave Roussy, Villejuif, France.',\n",
    "    'Division of Molecular Pathology, The Netherlands Cancer Institute, '\n",
    "        + 'Amsterdam, the Netherlands'\n",
    "]\n",
    "\n",
    "def _get_suspiciously_similar_affiliations():\n",
    "    unique_affiliations = list(set(\n",
    "        [j.strip() for j in FULLDF.loc[:, 'affil']]))\n",
    "    affilmap = dict()\n",
    "    n1 = 15\n",
    "    n2 = 5\n",
    "    n3 = 5\n",
    "    for saffil1 in unique_affiliations:\n",
    "        affil1 = [j.strip() for j in saffil1.split(',')]\n",
    "        for saffil2 in unique_affiliations:\n",
    "            affil2 = [j.strip() for j in saffil2.split(',')]\n",
    "            if saffil1 == saffil2:\n",
    "                continue\n",
    "            dept = affil1[0][:n1] == affil2[0][:n1]\n",
    "            uni = affil1[1][:n2] == affil2[1][:n2]\n",
    "            country = affil1[-1][:n3] == affil2[-1][:n3]\n",
    "            if dept and uni and country and (\n",
    "                not any([\n",
    "                    j.strip() in NOT_SUSPICIOUS for j in (saffil1, saffil2)])\n",
    "            ):\n",
    "                # longer version is assumer to be more detailed (i.e better)\n",
    "                if len(saffil1) > len(saffil2):\n",
    "                    affilmap[saffil2] = saffil1\n",
    "                else:\n",
    "                    affilmap[saffil1] = saffil2\n",
    "    \n",
    "    if len(affilmap) > 0:\n",
    "        print(\n",
    "            \"There are %d suspiciously similar affiliations that \"\n",
    "            \"WILL BE MERGED:\\n\" % len(affilmap))\n",
    "        for s1, s2 in affilmap.items():\n",
    "            print(s1)\n",
    "            print(s2, \"\\n\")\n",
    "    \n",
    "    return affilmap\n",
    "\n",
    "def _merge_affiliations():\n",
    "    for a1, a2 in affilmap.items():\n",
    "        FULLDF.loc[FULLDF.loc[:, \"affil\"] == a1, \"affil\"] = a2\n",
    "\n",
    "affilmap = _get_suspiciously_similar_affiliations()\n",
    "_merge_affiliations()"
   ],
   "metadata": {
    "collapsed": false,
    "pycharm": {
     "name": "#%%\n",
     "is_executing": false
    }
   }
  },
  {
   "cell_type": "markdown",
   "source": [
    "## Format combined author and member strings"
   ],
   "metadata": {
    "collapsed": false
   }
  },
  {
   "cell_type": "code",
   "execution_count": 7,
   "outputs": [],
   "source": [
    "# This assumes that if the same author has two or more affiliations, he/she\n",
    "# appears in CONSECUTIVE ROWS in the dataframe\n",
    "\n",
    "affil_no = dict()\n",
    "done_auths = dict()\n",
    "AUTHSTR = \"\"\n",
    "AFFILSTR = \"\"\n",
    "\n",
    "# name of first member\n",
    "fmname = FULLDF.iloc[first_member, :][\"auth\"]\n",
    "\n",
    "affid = 0\n",
    "\n",
    "for _, row in FULLDF.iterrows():\n",
    "    auth = row['auth']\n",
    "    affil = row['affil']\n",
    "    \n",
    "    # make sure we know where to find this first_member\n",
    "    if auth == fmname:\n",
    "        fmloc = len(AUTHSTR)\n",
    "        faloc = len(AFFILSTR)\n",
    "    \n",
    "    affil_not_exists = affil not in affil_no.keys()\n",
    "    fno = affid + 1 if affil_not_exists else affil_no[affil]\n",
    "    \n",
    "    # add author to author string\n",
    "    add = False\n",
    "    if auth not in done_auths.keys():\n",
    "        AUTHSTR += ', ' + auth\n",
    "        add = True\n",
    "    else:\n",
    "        AUTHSTR += '<sup>, </sup>'\n",
    "        if fno not in done_auths[auth]:\n",
    "            add = True\n",
    "        \n",
    "    # add affiliation to this author -- avoid repeats for same author\n",
    "    if add:\n",
    "        AUTHSTR += \"<sup>%d</sup>\" % fno\n",
    "    \n",
    "    # add affiliation to affiliation string if not there\n",
    "    if affil_not_exists:\n",
    "        AFFILSTR += \", <sup>%d </sup>%s\" % (fno, affil)\n",
    "        \n",
    "    # keep in memory\n",
    "    if auth not in done_auths.keys():\n",
    "        done_auths[auth] = [fno]\n",
    "    else:\n",
    "        done_auths[auth].append(fno)\n",
    "    affil_no[affil] = fno\n",
    "    if affil_not_exists:\n",
    "        affid += 1\n",
    "\n",
    "AUTHSTR = AUTHSTR[2:]\n",
    "AFFILSTR = AFFILSTR[2:]\n",
    "    "
   ],
   "metadata": {
    "collapsed": false,
    "pycharm": {
     "name": "#%%\n",
     "is_executing": false
    }
   }
  },
  {
   "cell_type": "markdown",
   "source": [
    "## Split author and member lists"
   ],
   "metadata": {
    "collapsed": false
   }
  },
  {
   "cell_type": "code",
   "execution_count": 8,
   "outputs": [],
   "source": [
    "PAPER_AUTHORS = AUTHSTR[:fmloc]\n",
    "PAPER_AFFILS = AFFILSTR[:faloc]\n",
    "WG_MEMBERS = AUTHSTR[fmloc:]\n",
    "WG_AFFILS = AFFILSTR[faloc:]\n",
    "\n",
    "# conform to journal style\n",
    "PAPER_AUTHORS += \\\n",
    "    \"International Immuno-Oncology Biomarker Working Group<sup>*</sup>\"\n",
    "PAPER_AFFILS += \"<sup>* </sup>A full list of members and their affiliations\" \\\n",
    "                + \" is available at the end of the manuscript.\"\n",
    "\n",
    "FINALSTR = \"<b>Authors:</b>\"\n",
    "FINALSTR += '<br />'\n",
    "FINALSTR += PAPER_AUTHORS\n",
    "FINALSTR += '<br /> <br />'\n",
    "FINALSTR += \"<b>Affiliations:</b>\"\n",
    "FINALSTR += '<br />'\n",
    "FINALSTR += PAPER_AFFILS\n",
    "FINALSTR += '<br /> <br />'\n",
    "FINALSTR += \"<b>Working Group members:</b>\"\n",
    "FINALSTR += '<br />'\n",
    "FINALSTR += WG_MEMBERS\n",
    "FINALSTR += '<br /> <br />'\n",
    "FINALSTR += \"<b>Working Group affiliations:</b>\"\n",
    "FINALSTR += '<br />'\n",
    "FINALSTR += WG_AFFILS\n",
    "\n",
    "\n",
    "with open('./%s_formatted_list.html' % paper, 'w') as f:\n",
    "    f.write(FINALSTR)"
   ],
   "metadata": {
    "collapsed": false,
    "pycharm": {
     "name": "#%%\n",
     "is_executing": false
    }
   }
  },
  {
   "cell_type": "code",
   "source": [
    "from IPython.display import HTML\n",
    "\n",
    "HTML(filename='./%s_formatted_list.html' % paper)"
   ],
   "metadata": {
    "collapsed": false,
    "pycharm": {
     "name": "#%% \n",
     "is_executing": false
    }
   },
   "execution_count": 9,
   "outputs": [
    {
     "data": {
      "text/plain": "<IPython.core.display.HTML object>",
      "text/html": "<b>Authors:</b><br />Mohamed Amgad<sup>1</sup>, Elisabeth Specht Stovgaard<sup>2</sup>, Eva Balslev<sup>2</sup>, Jeppe Thagaard<sup>3</sup><sup>, </sup><sup>4</sup>, Weijie Chen<sup>5</sup>, Sarah Dudgeon<sup>5</sup>, Ashish Sharma<sup>1</sup>, Jennifer K. Kerner<sup>6</sup>, Carsten Denkert<sup>7</sup><sup>, </sup><sup>8</sup><sup>, </sup><sup>9</sup>, Yinyin Yuan<sup>10</sup><sup>, </sup><sup>11</sup>, Khalid AbdulJabbar<sup>10</sup><sup>, </sup><sup>11</sup>, Stephan Wienert<sup>7</sup>, Peter Savas<sup>12</sup><sup>, </sup><sup>13</sup>, Leonie Voorwerk<sup>14</sup>, Andrew H. Beck<sup>6</sup>, Anant Madabhushi<sup>15</sup><sup>, </sup><sup>16</sup>, Johan Hartman<sup>17</sup>, Manu M. Sebastian<sup>18</sup>, Hugo M. Horlings<sup>19</sup>, Jan Hudeček<sup>20</sup>, Francesco Ciompi<sup>21</sup>, David A. Moore<sup>22</sup>, Rajendra Singh<sup>23</sup>, Elvire Roblin<sup>24</sup>, Marcelo Luiz Balancin<sup>25</sup>, Marie-Christine Mathieu<sup>26</sup>, Jochen K. Lennerz<sup>27</sup>, Pawan Kirtani<sup>28</sup>, I-Chun Chen<sup>29</sup><sup>, </sup>, Jeremy P. Braybrooke<sup>30</sup><sup>, </sup><sup>31</sup>, Giancarlo Pruneri<sup>32</sup>, Sandra Demaria<sup>33</sup>, Sylvia Adams<sup>34</sup>, Stuart J. Schnitt<sup>35</sup>, Sunil R. Lakhani<sup>36</sup>, Federico Rojo<sup>37</sup><sup>, </sup><sup>38</sup>, Laura Comerma<sup>38</sup><sup>, </sup><sup>37</sup>, Sunil S. Badve<sup>39</sup>, Mehrnoush Khojasteh<sup>40</sup>, William Fraser Symmans<sup>41</sup>, Christos Sotiriou<sup>42</sup><sup>, </sup><sup>43</sup>, Paula Gonzalez-Ericsson<sup>44</sup>, Katherine L. Pogue-Geile<sup>45</sup>, Rim S. Kim<sup>45</sup>, David L. Rimm<sup>46</sup>, Giuseppe Viale<sup>47</sup>, Stephen M. Hewitt<sup>48</sup>, John M.S. Bartlett<sup>49</sup><sup>, </sup><sup>50</sup>, Frédérique Penault-Llorca<sup>51</sup><sup>, </sup><sup>52</sup>, Shom Goel<sup>53</sup>, Huang-Chun Lien<sup>54</sup>, Sibylle Loibl<sup>55</sup>, Zuzana Kos<sup>56</sup>, Sherene Loi<sup>57</sup><sup>, </sup><sup>13</sup>, Matthew G. Hanna<sup>58</sup>, Stefan Michiels<sup>59</sup><sup>, </sup><sup>60</sup>, Marleen Kok<sup>61</sup><sup>, </sup><sup>62</sup>, Torsten O. Nielsen<sup>63</sup>, Alexander J. Lazar<sup>41</sup><sup>, </sup><sup>64</sup><sup>, </sup><sup>65</sup><sup>, </sup><sup>66</sup>, Zsuzsanna Bago-Horvath<sup>67</sup>, Loes F.S. Kooreman<sup>68</sup><sup>, </sup><sup>69</sup>, Jeroen A.W.M. van der Laak<sup>70</sup><sup>, </sup><sup>71</sup>, Joel Saltz<sup>72</sup>, Brandon D. Gallas<sup>5</sup>, Uday Kurkure<sup>40</sup>, Michael Barnes<sup>73</sup>, Roberto Salgado<sup>74</sup><sup>, </sup><sup>12</sup>, Lee A.D. Cooper<sup>75</sup>, International Immuno-Oncology Biomarker Working Group<sup>*</sup><br /> <br /><b>Affiliations:</b><br /><sup>1 </sup>Department of Biomedical Informatics, Emory University School of Medicine, Atlanta, GA, USA, <sup>2 </sup>Department of Pathology, Herlev and Gentofte Hospital, University of Copenhagen, Herlev, Denmark, <sup>3 </sup>DTU Compute, Department of Applied Mathematics, Technical University of Denmark, Denmark, <sup>4 </sup>Visiopharm A/S, Hørsholm, Denmark, <sup>5 </sup>FDA/CDRH/OSEL/Division of Imaging, Diagnostics, and Software Reliability, Silver Spring, MD, USA, <sup>6 </sup>PathAI, Cambridge, MA, USA, <sup>7 </sup>Institut für Pathologie, Universitätsklinikum Gießen und Marburg GmbH, Standort Marburg, Philipps-Universität Marburg, Marburg, Germany., <sup>8 </sup>Institute of Pathology, Philipps-University Marburg, Germany, <sup>9 </sup>German Cancer Consortium (DKTK), Partner Site Charité, Berlin, Germany, <sup>10 </sup>Centre for Evolution and Cancer, The Institute of Cancer Research, London, UK, <sup>11 </sup>Division of Molecular Pathology, The Institute of Cancer Research, London, UK, <sup>12 </sup>Division of Research and Cancer Medicine, Peter MacCallum Cancer Centre, University of Melbourne, Victoria, Australia, <sup>13 </sup>Sir Peter MacCallum Department of Oncology, University of Melbourne, Parkville, Australia, <sup>14 </sup>Department of Molecular Oncology &amp; Immunology, The Netherlands Cancer Institute Amsterdam, Amsterdam, The Netherlands, <sup>15 </sup>Case Western Reserve University, Department of Biomedical Engineering, Cleveland, OH, USA, <sup>16 </sup>Louis Stokes Cleveland Veterans Administration Medical Center, Cleveland, OH, USA, <sup>17 </sup>Department of Oncology and Pathology, Karolinska Institutet and University Hospital, Solna, Sweden, <sup>18 </sup>Departments of Epigenetics and Molecular Carcinogenesis, The University of Texas MD Anderson Cancer Center, Houston, TX, USA, <sup>19 </sup>Division of Molecular Pathology, The Netherlands Cancer Institute, Amsterdam, the Netherlands, <sup>20 </sup>Department of Research IT, The Netherlands Cancer Institute, Amsterdam, the Netherlands, <sup>21 </sup>Department of Pathology, Radboud University Medical Center, Nijmegen, the Netherlands, <sup>22 </sup>Department of Pathology, UCL Cancer Institute, UK, <sup>23 </sup>Department of Pathology and Laboratory Medicine, Icahn School of Medicine at Mount Sinai, New York, NY, USA, <sup>24 </sup>Université Paris-Saclay, Univ. Paris-Sud, Villejuif, France, <sup>25 </sup>Department of Pathology, Faculty of Medicine, University of São Paulo, São Paulo, Brazil, <sup>26 </sup>Department of Medical Biology and Pathology, Gustave Roussy Cancer Campus, Villejuif, France, <sup>27 </sup>Department of Pathology, Massachusetts General Hospital, Boston, MA, USA, <sup>28 </sup>Department of Histopathology, Manipal Hospitals Dwarka, New Delhi, India, <sup>29 </sup>Department of Oncology, National Taiwan University Cancer Center, Taipei, Taiwan, <sup>30 </sup>Nuffield Department of Population Health, University of Oxford, Oxford, UK, <sup>31 </sup>Department of Medical Oncology, University Hospitals Bristol NHS Foundation Trust, Bristol, UK, <sup>32 </sup>Pathology Department, Fondazione IRCCS Istituto Nazionale Tumori and University of Milan, School of Medicine, Milan, Italy, <sup>33 </sup>Weill Cornell Medical College, New York, NY, USA, <sup>34 </sup>Laura and Isaac Perlmutter Cancer Center, NYU Langone Medical Center, New York, NY, USA, <sup>35 </sup>Department of Pathology, Brigham and Women&#39;s Hospital, Boston, MA, USA, <sup>36 </sup>The University of Queensland Centre for Clinical Research and Pathology Queensland, Brisbane, Australia, <sup>37 </sup>Pathology Department, CIBERONC-Instituto de Investigación Sanitaria Fundación Jiménez Díaz (IIS-FJD), Madrid, Spain, <sup>38 </sup>GEICAM-Spanish Breast Cancer Research Group, Madrid, Spain, <sup>39 </sup>Department of Pathology and Laboratory Medicine, Indiana University School of Medicine, Indianapolis, IN, USA, <sup>40 </sup>Roche Tissue Diagnostics, Digital Pathology, Santa Clara, CA, USA, <sup>41 </sup>Department of Pathology, The University of Texas MD Anderson Cancer Center, Houston, TX, USA, <sup>42 </sup>Breast Cancer Translational Research Laboratory, Institut Jules Bordet, Université Libre de Bruxelles (ULB), Brussels, Belgium, <sup>43 </sup>ULB-Cancer Research Center (U-CRC) Université Libre de Bruxelles, Brussels, Belgium, <sup>44 </sup>Breast Cancer Program, Vanderbilt-Ingram Cancer Center, Vanderbilt University Medical Center, Nashville, TN, USA, <sup>45 </sup>NRG Oncology/NSABP, Pittsburgh, PA, USA, <sup>46 </sup>Department of Pathology, Yale University School of Medicine, New Haven, CT, USA, <sup>47 </sup>Department of Pathology, IEO, European Institute of Oncology IRCCS &amp; State University of Milan, Milan, Italy, <sup>48 </sup>Laboratory of Pathology, National Cancer Institute, National Institutes of Health, Bethesda, MD, USA, <sup>49 </sup>Ontario Institute for Cancer Research, Toronto, Ontario, Canada, <sup>50 </sup>Edinburgh Cancer Research Centre, Western General Hospital, Edinburgh, UK, <sup>51 </sup>Department of Pathology and Molecular Pathology, Centre Jean Perrin, Clermont-Ferrand, France, <sup>52 </sup>UMR INSERM 1240, Universite Clermont Auvergne, Clermont-Ferrand, France, <sup>53 </sup>Department of Cancer Biology, Dana-Farber Cancer Institute, Boston, MA, USA, <sup>54 </sup>Department of Pathology, National Taiwan University Hospital, Taipei, Taiwan, <sup>55 </sup>German Breast Group, c/o GBG-Forschungs GmbH, Neu-Isenburg, Germany, <sup>56 </sup>Department of Pathology, BC Cancer, Vancouver, British Columbia, Canada, <sup>57 </sup>Peter MacCallum Cancer Centre, Melbourne, Australia, <sup>58 </sup>Department of Pathology, Memorial Sloan Kettering Cancer Center, New York, NY, USA, <sup>59 </sup>Gustave Roussy, Universite Paris-Saclay, Villejuif, France, <sup>60 </sup>Université Paris-Sud, Institut National de la Santé et de la Recherche Médicale, Villejuif, France, <sup>61 </sup>Division of Molecular Oncology &amp; Immunology, The Netherlands Cancer Institute, Amsterdam, the Netherlands, <sup>62 </sup>Department of Medical Oncology, The Netherlands Cancer Institute, Amsterdam, the Netherlands, <sup>63 </sup>University of British Columbia, Vancouver, British Columbia, Canada., <sup>64 </sup>Department of Genomic Medicine, The University of Texas MD Anderson Cancer Center, Houston, TX, USA, <sup>65 </sup>Department of Translational Molecular Pathology, The University of Texas MD Anderson Cancer Center, Houston, TX, USA, <sup>66 </sup>Department of Dermatology, The University of Texas MD Anderson Cancer Center, Houston, TX, USA, <sup>67 </sup>Department of Pathology, Medical University of Vienna, Vienna, Austria, <sup>68 </sup>GROW - School for Oncology and Developmental Biology, Maastricht University Medical Centre, Maastricht, The Netherlands, <sup>69 </sup>Department of Pathology, Maastricht University Medical Centre, Maastricht, The Netherlands, <sup>70 </sup>Department of Pathology, Radboud University Medical Center, Nijmegen, Netherlands, <sup>71 </sup>Center for Medical Image Science and Visualization, Linköping University, Linköping, Sweden, <sup>72 </sup>Department of Biomedical Informatics, Stony Brook University, Stony Brook, NY, USA, <sup>73 </sup>Roche Diagnostics Information Solutions, Belmont, CA, USA, <sup>74 </sup>Department of Pathology, GZA-ZNA Ziekenhuizen, Wilrijk, Belgium., <sup>75 </sup>Department of Pathology, Northwestern University Feinberg School of Medicine, Chicago, IL, USA, <sup>* </sup>A full list of members and their affiliations is available at the end of the manuscript.<br /> <br /><b>Working Group members:</b><br />Aini Hyytiäinen<sup>76</sup>, Akira I. Hida<sup>77</sup><sup>, </sup>, Alastair Thompson<sup>78</sup>, Alex Lefevre<sup>79</sup>, Allen Gown<sup>80</sup>, Amy Lo<sup>81</sup>, Ana Sapino<sup>82</sup>, Andre Moreira<sup>83</sup>, Andrea Richardson<sup>84</sup>, Andrea Vingiani<sup>85</sup>, Andrew M. Bellizzi<sup>86</sup>, Andrew Tutt<sup>87</sup>, Angel Guerrero<sup>88</sup>, Anita Grigoriadis<sup>89</sup><sup>, </sup><sup>90</sup>, Anna Ehinger<sup>91</sup>, Anna Garrido Castro<sup>92</sup>, Anne Vincent-Salomon<sup>93</sup>, Anne-Vibeke Laenkholm<sup>94</sup>, Ashley Cimino-Mathews<sup>95</sup>, Ashok Srinivasan<sup>96</sup>, Balazs Acs<sup>97</sup>, Baljit Singh<sup>98</sup>, Benjamin Calhoun<sup>99</sup>, Benjamin Haibe-Kans<sup>100</sup>, Benjamin Solomon<sup>101</sup>, Bibhusal Thapa<sup>102</sup>, Brad H. Nelson<sup>103</sup>, Carlos Castaneda<sup>104</sup><sup>, </sup><sup>105</sup>, Carmen Ballesteroes-Merino<sup>106</sup>, Carmen Criscitiello<sup>107</sup>, Carolien Boeckx<sup>108</sup>, Cecile Colpaert<sup>109</sup>, Cecily Quinn<sup>110</sup>, Chakra S. Chennubhotla<sup>111</sup>, Charles Swanton<sup>112</sup>, Cinzia Solinas<sup>113</sup>, Crispin Hiley<sup>112</sup>, Damien Drubay<sup>59</sup><sup>, </sup><sup>60</sup>, Daniel Bethmann<sup>114</sup>, Deborah A. Dillon<sup>115</sup>, Denis Larsimont<sup>116</sup>, Dhanusha Sabanathan<sup>117</sup>, Dieter Peeters<sup>118</sup>, Dimitrios Zardavas<sup>119</sup>, Doris Höflmayer<sup>120</sup>, Douglas B. Johnson<sup>121</sup>, E. Aubrey Thompson<sup>122</sup>, Edi Brogi<sup>58</sup>, Edith Perez<sup>123</sup>, Ehab A. ElGabry<sup>124</sup>, Elizabeth F. Blackley<sup>101</sup>, Emily Reisenbichler<sup>46</sup>, Enrique Bellolio<sup>125</sup><sup>, </sup><sup>126</sup>, Ewa Chmielik<sup>127</sup>, Fabien Gaire<sup>128</sup>, Fabrice Andre<sup>129</sup>, Fang-I Lu<sup>130</sup>, Farid Azmoudeh-Ardalan<sup>131</sup>, Forbius Tina Gruosso<sup>132</sup>, Franklin Peale<sup>133</sup>, Fred R. Hirsch<sup>134</sup>, Frederick Klaushen<sup>135</sup>, Gabriela Acosta-Haab<sup>136</sup>, Gelareh Farshid<sup>137</sup>, Gert van den Eynden<sup>74</sup>, Giuseppe Curigliano<sup>138</sup><sup>, </sup><sup>139</sup>, Giuseppe Floris<sup>140</sup><sup>, </sup><sup>141</sup>, Glenn Broeckx<sup>142</sup>, Gonzalez-Ericsson<sup>143</sup>, Harmut Koeppen<sup>81</sup>, Harry R. Haynes<sup>144</sup>, Heather McArthur<sup>145</sup>, Heikki Joensuu<sup>146</sup>, Helena Olofsson<sup>147</sup>, Ian Cree<sup>148</sup>, Iris Nederlof<sup>149</sup>, Isabel Frahm<sup>150</sup>, Iva Brcic<sup>151</sup>, Jack Chan<sup>152</sup>, Jacqueline A. Hall<sup>153</sup>, James Ziai<sup>81</sup>, Jane Brock<sup>154</sup>, Jelle Weseling<sup>155</sup>, Jennifer Giltnane<sup>81</sup>, Jerome Lemonnier<sup>156</sup>, Jiping Zha<sup>157</sup>, Joana Ribeiro<sup>158</sup>, Jodi M. Carter<sup>159</sup>, Johannes Hainfellner<sup>160</sup>, John Le Quesne<sup>161</sup>, Jonathon W. Juco<sup>162</sup>, Jorge Reis-Filho<sup>58</sup><sup>, </sup><sup>163</sup>, Jose van den Berg<sup>164</sup>, Joselyn Sanchez<sup>165</sup>, Joseph Sparano<sup>166</sup>, Joël Cucherousset<sup>167</sup>, Juan Carlos Araya<sup>125</sup>, Julien Adam<sup>168</sup>, Justin M. Balko<sup>169</sup>, Kai Saeger<sup>170</sup>, Kalliopi Siziopikou<sup>171</sup>, Karen Willard-Gallo<sup>172</sup>, Karolina Sikorska<sup>173</sup>, Karsten Weber<sup>174</sup>, Keith E. Steele<sup>157</sup>, Kenneth Emancipator<sup>162</sup>, Khalid El Bairi<sup>175</sup>, Kim R.M. Blenman<sup>176</sup>, Kimberly H. Allison<sup>177</sup>, Koen K. van de Vijver<sup>178</sup>, Konstanty Korski<sup>179</sup>, Lajos Pusztai<sup>176</sup>, Laurence Buisseret<sup>172</sup>, Leming Shi<sup>180</sup>, Liu Shi-wei<sup>181</sup>, Luciana Molinero<sup>133</sup>, M. Valeria Estrada<sup>182</sup>, Maartje van Seijen<sup>183</sup>, Magali Lacroix-Triki<sup>184</sup>, Maggie C.U. Cheang<sup>185</sup>, Maise al Bakir<sup>112</sup>, Marc van de Vijver<sup>186</sup>, Maria Vittoria Dieci<sup>187</sup>, Marlon C. Rebelatto<sup>157</sup>, Martine Piccart<sup>188</sup>, Matthew P. Goetz<sup>123</sup>, Matthias Preusser<sup>160</sup>, Melinda E. Sanders<sup>189</sup>, Meredith M. Regan<sup>190</sup><sup>, </sup><sup>191</sup>, Michael Christie<sup>192</sup>, Michael Misialek<sup>193</sup>, Michail Ignatiadis<sup>194</sup>, Michiel de Maaker<sup>183</sup>, Mieke van Bockstal<sup>195</sup>, Miluska Castillo<sup>105</sup>, Nadia Harbeck<sup>196</sup>, Nadine Tung<sup>197</sup>, Nele Laudus<sup>198</sup>, Nicolas Sirtaine<sup>199</sup>, Nicole Burchardi<sup>200</sup>, Nils Ternes<sup>201</sup>, Nina Radosevic-Robin<sup>202</sup>, Oleg Gluz<sup>203</sup>, Oliver Grimm<sup>128</sup>, Paolo Nuciforo<sup>204</sup>, Paul Jank<sup>205</sup>, Petar Jelinic<sup>162</sup>, Peter H. Watson<sup>206</sup>, Prudence A Francis<sup>57</sup><sup>, </sup><sup>13</sup>, Prudence A. Russell<sup>207</sup>, Robert H. Pierce<sup>208</sup>, Robert Hills<sup>209</sup>, Roberto Leon-Ferre<sup>123</sup>, Roland de Wind<sup>199</sup>, Ruohong Shui<sup>210</sup>, Sabine Declercq<sup>211</sup>, Sam Leung<sup>63</sup>, Sami Tabbarah<sup>212</sup>, Sandra C Souza<sup>213</sup>, Sandra O’Toole<sup>214</sup>, Sandra Swain<sup>215</sup>, Scooter Willis<sup>216</sup>, Scott Ely<sup>217</sup>, Seong- Rim Kim<sup>218</sup>, Shahinaz Bedri<sup>219</sup>, Sheeba Irshad<sup>220</sup><sup>, </sup><sup>221</sup>, Shi-Wei Liu<sup>222</sup>, Shona Hendry<sup>223</sup>, Simonetta Bianchi<sup>224</sup>, Sofia Bragança<sup>225</sup>, Soonmyung Paik<sup>96</sup>, Stephen B. Fox<sup>223</sup>, Stephen J. Luen<sup>12</sup>, Stephen Naber<sup>226</sup>, Sua Luz<sup>227</sup>, Susan Fineberg<sup>228</sup>, Teresa Soler<sup>229</sup>, Thomas Gevaert<sup>230</sup>, Timothy d’Alfons<sup>231</sup>, Tom John<sup>232</sup>, Tomohagu Sugie<sup>233</sup>, Veerle Bossuyt<sup>234</sup>, Venkata Manem<sup>100</sup>, Vincente Peg Cámaea<sup>235</sup>, Weida Tong<sup>236</sup>, Wentao Yang<sup>210</sup>, William T. Tran<sup>212</sup>, Yihong Wang<sup>237</sup>, Yves Allory<sup>238</sup>, Zaheed Husain<sup>239</sup><br /> <br /><b>Working Group affiliations:</b><br /><sup>76 </sup>Department of Oral and Maxillofacial Diseases, Helsinki, Finland, <sup>77 </sup>Department of Pathology, Matsuyama Shimin Hospital, Matsuyama, Japan., <sup>78 </sup>Surgical Oncology, Baylor College of Medicine, Texas, USA., <sup>79 </sup>Roche Diagnostics, Belg, <sup>80 </sup>PhenoPath Laboratories, Seattle, USA., <sup>81 </sup>Research Pathology, Genentech Inc., South San Francisco, USA., <sup>82 </sup>University of Turin / Candiolo Cancer Institute - FPO, IRCCS, Candiolo, Italy, <sup>83 </sup>Pulmonary Pathology, New York University Center for Biospecimen Research and Development, New York University, New York, New York, USA., <sup>84 </sup>Department of Pathology, Johns Hopkins Hospital, Baltimore, USA., <sup>85 </sup>Department of Pathology, Istituto Europeo di Oncologia, University of Milan, Milan, Italy., <sup>86 </sup>Department of Pathology, University of Iowa Hospitals and Clinics, Iowa City, USA., <sup>87 </sup>Breast Cancer Now Toby Robins Research Centre, The Institute of Cancer Research, London, UK, <sup>88 </sup>Department of Oncology, IVO Valencia, Spain., <sup>89 </sup>Cancer Bioinformatics Lab, Cancer Centre at Guy’s Hospital, London, UK, <sup>90 </sup>School of Life Sciences and Medicine, King’s College London, London, UK, <sup>91 </sup>Lund University, Skane University Hospital, Department of Clinical Sciences Lund, Oncology and Pathology, Lund, Sweden, <sup>92 </sup>Dana Farber Cancer Institute, Boston, USA., <sup>93 </sup>Institut Curie, Paris Sciences Lettres Université, Inserm U934, Department of Pathology, Paris, France., <sup>94 </sup>Department of Surgical Pathology Zealand University Hospital, Demark, <sup>95 </sup>Departments of Pathology and Oncology, The Johns Hopkins Hospital, Baltimore, USA., <sup>96 </sup>National Surgical Adjuvant Breast and Bowel Project Operations Center/NRG Oncology, Pittsburgh, Pennsylvania, USA., <sup>97 </sup>Department of Pathology, Karolinska Institute, Sweden, <sup>98 </sup>Department of Pathology, New York University Langone Medical Centre, New York, USA., <sup>99 </sup>Department of Pathology and Laboratory Medicine, UNC School of Medicine, USA., <sup>100 </sup>Bioinformatics and Computational Genomics Laboratory, Princess Margaret Cancer Center, Toronto, Canada., <sup>101 </sup>Department of Medical Oncology, Peter MacCallum Cancer Centre, Melbourne, VIC, Australia., <sup>102 </sup>Department of Medicine, University of Melbourne, Parkville, Australia., <sup>103 </sup>Trev & Joyce Deeley Research Centre, British Columbia Cancer Agency, Victoria, Canada., <sup>104 </sup>Department of Research, Instituto Nacional de Enfermedades Neoplásicas, Lima, Perú., <sup>105 </sup>Department of Research, Instituto Nacional de Enfermedades Neoplasicas, Lima 15038, Peru, <sup>106 </sup>Providence Cancer Research Center, Portland, Oregon, USA., <sup>107 </sup>Department of Medical Oncology, Istituto Europeo di Oncologia, Milan, Italy., <sup>108 </sup>Roche Diagnostics, Belgium., <sup>109 </sup>Department of Pathology, AZ Turnhout, Turnhout, Belgium., <sup>110 </sup>Department of Pathology, St Vincent's University Hospital and University College Dublin, Dublin, Ireland, <sup>111 </sup>Department of Computational and Systems Biology, University of Pittsburgh, USA., <sup>112 </sup>Cancer Research UK Lung Cancer Centre of Excellence, University College London Cancer Institute, University College London, London, UK, <sup>113 </sup>Azienda AUSL, Regional Hospital of Aosta, Aosta, Italy, <sup>114 </sup>University Hospital Halle (Saale), Institute of Pathology, Halle (Saale), Germany, <sup>115 </sup>Department of Pathology, Brigham and Women’s Hospital, Boston, MA Department of Pathology, Dana Farber Cancer Institute, Boston, MA, <sup>116 </sup>Department of Pathology, Jules Bordet Institute, Brussels, Belgium, <sup>117 </sup>Department of Clinical Medicine, Macquarie University, Sydney, Australia, <sup>118 </sup>HistoGeneX NV, Antwerp, Belgium and AZ Sint-Maarten Hospital, Mechelen, Belgium., <sup>119 </sup>Oncology Clinical Development, Bristol-Myers Squibb, Princeton, USA., <sup>120 </sup>Institut für Pathologie , UK Hamburg, Germany., <sup>121 </sup>Department of Medicine, Vanderbilt University Medical Centre, Nashville, USA., <sup>122 </sup>Department of Cancer Biology, Mayo Clinic, Jacksonville, USA., <sup>123 </sup>Department of Oncology, Mayo Clinic, Rochester, USA., <sup>124 </sup>Roche, Tucson, USA, <sup>125 </sup>Department of Pathology, Universidad de La Frontera, Temuco, Chile., <sup>126 </sup>Departamento de Anatomía Patológica, Universidad de La Frontera. Temuco, Chile, <sup>127 </sup>Tumor Pathology Department, Maria Sklodowska-Curie Memorial Cancer Center, Gliwice, Poland., <sup>128 </sup>Pathology and Tissue Analytics, Roche., <sup>129 </sup>Department of Medical Oncology, Gustave Roussy, Villejuif, France., <sup>130 </sup>Sunnybrook Health Sciences Centre, Toronto, Canada, <sup>131 </sup>Tehran University of Medical Sciences, Iran., <sup>132 </sup>Translational Research, Montreal, Canada., <sup>133 </sup>Oncology Biomarker Development, Genentech-Roche., <sup>134 </sup>Division of Medical Oncology, Department of Medicine, University of Colorado Anschutz Medical Campus, Aurora, USA., <sup>135 </sup>Institute of Pathology, Charité Universitätsmedizin Berlin, Berlin, Germany, <sup>136 </sup>Department of Pathology, Hospital de Oncología Maria Curie, Buenos Aires, Argentina, <sup>137 </sup>Directorate of Surgical Pathology, SA Pathology, Adelaide, Australia., <sup>138 </sup>University of Milano, Istituto Europeo di Oncologia, IRCCS, Milano, Italy, <sup>139 </sup>Division of Early Drug Development for Innovative Therapy, IEO, European Institute of Oncology IRCCS, Milan, Italy, <sup>140 </sup>Department of Imaging and Pathology, Laboratory of Translational Cell & Tissue Research, Leuven, Belgium, <sup>141 </sup>KU Leuven- University Hospitals Leuven, Department of Pathology, Leuven, Belgium, <sup>142 </sup>Department of Pathology, University Hospital Antwerp, Belgium., <sup>143 </sup>Paula I, Breast Cancer Research Program, Vanderbilt University Medical Center, Nashville, USA., <sup>144 </sup>Translational Health Sciences, Department of Cellular Pathology, North Bristol NHS Trust, University of Bristol, UK, <sup>145 </sup>Medical Oncology, Department of Medicine, Cedars-Sinai Medical Center, Los Angeles, USA, <sup>146 </sup>Helsinki University Central Hospital, Helsinki, Finland, <sup>147 </sup>Department of Clinical Pathology, Akademiska University Hospital, Uppsala, Sweden, <sup>148 </sup>International Agency for Research on Cancer (IARC), World Health Organization, Lyon, France., <sup>149 </sup>Division of Tumor Biology & Immunology, The Netherlands Cancer Institute, Amsterdam, The Netherlands, <sup>150 </sup>Department of Pathology, Sanatorio Mater Dei, Buenos Aires, Argentina., <sup>151 </sup>Institute of Pathology, Medical University of Graz, Austria., <sup>152 </sup>Department of Oncology, National Cancer Centre, Singapore., <sup>153 </sup>Vivactiv Ltd, Bellingdon, Bucks, UK., <sup>154 </sup>Department of Pathology, Brigham and Women’s Hospital, Boston, USA., <sup>155 </sup>Department of Pathology, Netherlands Cancer Institute, Amsterdam, The Netherlands., <sup>156 </sup>R&D UNICANCER, Paris, France, <sup>157 </sup>Translational Sciences, MedImmune, Gaithersberg, USA., <sup>158 </sup>Breast Unit, Champalimaud Clinical Centre, Lisboa, Portugal, <sup>159 </sup>Department of Laboratory Medicine and Pathology, Mayo Clinic, Rochester, USA., <sup>160 </sup>Department of Medicine, Clinical Division of Oncology, Comprehensive Cancer Centre Vienna, Medical University of Vienna, Vienna, Austria., <sup>161 </sup>Leicester Cancer Research Centre, University of Leicester, Leicester, and MRC Toxicology Unit, University of Cambridge, UK., <sup>162 </sup>Merck & Co., Inc., Kenilworth, USA., <sup>163 </sup>Human Oncology and Pathogenesis Program, Memorial Sloan Kettering Cancer Center, New York, NY, USA, <sup>164 </sup>Department of Pathology, The Netherlands Cancer Institute, Amsterdam, The Netherlands, <sup>165 </sup>Department of Research, Instituto Nacional de Enfermedades Neoplasicas, Lima 15038, Peru., <sup>166 </sup>Department of Medicine, Department of Obstetrics & Gynecology and Women’s Health, Albert Einstein Medical Center, Bronx, USA., <sup>167 </sup>GHI Le Raincy-Montfermeil, Chelles, Île-de-France, France, <sup>168 </sup>Department of Pathology, Gustave Roussy, Grand Paris, France., <sup>169 </sup>Departments of Medicine and Cancer Biology, Vanderbilt University Medical Centre, Nashville, USA., <sup>170 </sup>Vm Scope, Germany., <sup>171 </sup>Department of Pathology, Breast Pathology Section, Northwestern University, Chicago, USA., <sup>172 </sup>Molecular Immunology Unit, Institut Jules Bordet, Université Libre de Bruxelles, Brussels, Belgium., <sup>173 </sup>Department of Biometrics, The Netherlands Cancer Institute, Amsterdam, The Netherlands, <sup>174 </sup>German Breast Group, Neu-Isenburg, Germany., <sup>175 </sup>Cancer Biomarkers Working Group, Faculty of Medicine and Pharmacy, Université Mohamed Premier, Oujda, Morocco., <sup>176 </sup>Yale Cancer Center Genetics, Genomics and Epigenetics Program, Yale School of Medicine, New Haven, CT , USA, <sup>177 </sup>Pathology Department, Stanford University Medical Centre, Stanford, USA., <sup>178 </sup>Department of Pathology, University Hospital Ghent, Belgium., <sup>179 </sup>Pathology and Tissue Analytics, Roche Innovation Centre Munich, Penzberg, Germany, <sup>180 </sup>Center for Pharmacogenomics and Fudan-Zhangjiang, Center for Clinical Genomics School of Life Sciences and Shanghai Cancer Center, Fudan University, China., <sup>181 </sup>Sichuan Cancer Hospital, Chengdu, China., <sup>182 </sup>Biorepository and Tissue Technology Shared Resources, University of California San Diego, USA., <sup>183 </sup>Division of Molecular Pathology, The Netherlands Cancer Institute, Amsterdam, The Netherlands, <sup>184 </sup>Department of Pathology, Gustave Roussy, Villejuif, France., <sup>185 </sup>Institute of Cancer Research Clinical Trials and Statistics Unit, The Institute of Cancer Research, Surrey, UK, <sup>186 </sup>Department of Pathology, Academic Medical Center, Amsterdam, The Netherlands., <sup>187 </sup>Department of Surgery, Oncology and Gastroenterology, University of Padova, Padua, Italy., <sup>188 </sup>Institut Jules Bordet, Universite Libre de Bruxelles, Brussels, Belgium, <sup>189 </sup>Department of Pathology, Microbiology and Immunology, Vanderbilt University Medical Centre, Nashville, USA., <sup>190 </sup>Harvard Medical School, Boston, USA, <sup>191 </sup>Division of Biostatistics, Dana-Farber Cancer Institute, Boston, USA, <sup>192 </sup>Department of Anatomical Pathology, Royal Melbourne Hospital, Parkville, Australia., <sup>193 </sup>Vernon Cancer Center, Newton-Wellesley Hospital, Newton, USA., <sup>194 </sup>Department of Medical Oncology, Institut Jules Bordet, Université Libre de Bruxelles, Brussels, Belgium., <sup>195 </sup>Service de pathologique, Cliniques universitaires Saint-Luc, Bruxelles, Belgique, <sup>196 </sup>Breast Center, Dept. OB&GYN and CCC (LMU), University of Munich, Munich, Germany., <sup>197 </sup>Division of Hematology-Oncology, Beth Israel Deaconess Medical Center, Boston, USA., <sup>198 </sup>University of Leuven, Belgium., <sup>199 </sup>Department of Pathology, Institut Jules Bordet, Université Libre de Bruxelles, Brussels, Belgium., <sup>200 </sup>German Breast Group GmbH, Germany., <sup>201 </sup>Service de Biostatistique et d’Epidémiologie, Gustave Roussy, CESP, Université-Paris Sud, Université Paris-Saclay, Villejuif, France., <sup>202 </sup>Department of Surgical Pathology and Biopathology, Jean Perrin Comprehensive Cancer Centre, Clermont-Ferrand, France., <sup>203 </sup>Johanniter GmbH - Evangelisches Krankenhaus Bethesda Mönchengladbach, West German Study Group, Mönchengladbach, Germany., <sup>204 </sup>Molecular Oncology Group, Vall d’Hebron Institute of Oncology, Barcelona, Spain., <sup>205 </sup>Department of Pathology, University of Marburg, Marburg, Germany., <sup>206 </sup>Department of Pathology and Laboratory Medicine, University of British Columbia,, <sup>207 </sup>Department of Anatomical Pathology, St Vincent’s Hospital Melbourne, Fitzroy, Australia., <sup>208 </sup>Cancer Immunotherapy Trials Network, Central Laboratory and Program in Immunology, Fred Hutchinson Cancer Research Center, Seattle, USA., <sup>209 </sup>Clinical Trial Service Unit & Epidemiological Studies Unit, University of Oxford, UK., <sup>210 </sup>Department of Pathology, Fudan University Cancer Center, China., <sup>211 </sup>Department of Pathology, GZA-ZNA Hospitals, Antwerp, Belgium, <sup>212 </sup>Department of Radiation Oncology, Odette Cancer Centre, Sunnybrook Research Institute, Toronto, Canada, <sup>213 </sup>Oncology Merck & Co, New Jersey, USA, <sup>214 </sup>The Cancer Research Program, Garvan Institute of Medical Research, Darlinghurst, Australian Clinical Labs, Australia., <sup>215 </sup>Georgetown University Medical Center, Washington DC, USA., <sup>216 </sup>Department of Molecular and Experimental Medicine, Avera Cancer Institute, Sioux Falls, SD, USA., <sup>217 </sup>Translational Medicine, Bristol-Myers Squibb, Princeton, USA., <sup>218 </sup>National Surgical Adjuvant Breast and Bowel Project Operations Center/NRG Oncology, Pittsburgh, USA, <sup>219 </sup>Anatomic Pathology, Boston, Massachusetts, USA., <sup>220 </sup>King’s College London, London, UK, <sup>221 </sup>Guy’s Hospital, London, UK, <sup>222 </sup>Peking University First Hospital Breast Disease Center, Beijing, China., <sup>223 </sup>Department of Pathology, Peter MacCallum Cancer Centre, Melbourne, Australia., <sup>224 </sup>Dipartimento di Scienze della Salute (DSS), Firenze, Italy., <sup>225 </sup>Department of Oncology, Champalimaud Clinical Centre, Lisbon, Portugal., <sup>226 </sup>Department of Pathology and Laboratory Medicine, Tufts Medical Center, USA, <sup>227 </sup>Department of Pathology, Fundación Valle del Lili, Cali, Colombia., <sup>228 </sup>Department of Pathology, Montefiore Medical Center and the Albert Einstein College of Medicine, Bronx, NY, USA, <sup>229 </sup>Department of Pathology, University Hospital of Bellvitge, Oncobell, IDIBELL, L'Hospitalet del Llobregat, Barcelona 08908, Catalonia, Spain, <sup>230 </sup>Department of Development and Regeneration, Laboratory of Experimental Urology, KU Leuven, Leuven, Belgium., <sup>231 </sup>Department of Pathology, Memorial Sloan Kettering Cancer Center, New York, NY, USA., <sup>232 </sup>Department of Medical Oncology, Austin Health, Heidelberg, Australia., <sup>233 </sup>Department of Surgery, Kansai Medical School, Hirakata, Japan., <sup>234 </sup>Department of Pathology, Massachusetts General Hospital, USA., <sup>235 </sup>Pathology Department, H.U. Vall d’Hebron, Barcelona, Spain., <sup>236 </sup>Division of Bioinformatics and Biostatistics, U.S. Food and Drug Administration, USA., <sup>237 </sup>Department of Pathology and Laboratory Medicine, Rhode Island Hospital and Lifespan Medical Center, Providence, USA., <sup>238 </sup>Université Paris-Est, Créteil, France., <sup>239 </sup>Praava Health, Dhaka, Bangladesh"
     },
     "metadata": {},
     "output_type": "execute_result",
     "execution_count": 9
    }
   ]
  },
  {
   "cell_type": "code",
   "execution_count": 9,
   "outputs": [],
   "source": [],
   "metadata": {
    "collapsed": false,
    "pycharm": {
     "name": "#%%\n",
     "is_executing": false
    }
   }
  }
 ],
 "metadata": {
  "kernelspec": {
   "display_name": "Python 3",
   "language": "python",
   "name": "python3"
  },
  "language_info": {
   "codemirror_mode": {
    "name": "ipython",
    "version": 2
   },
   "file_extension": ".py",
   "mimetype": "text/x-python",
   "name": "python",
   "nbconvert_exporter": "python",
   "pygments_lexer": "ipython2",
   "version": "2.7.6"
  },
  "pycharm": {
   "stem_cell": {
    "cell_type": "raw",
    "source": [],
    "metadata": {
     "collapsed": false
    }
   }
  }
 },
 "nbformat": 4,
 "nbformat_minor": 0
}
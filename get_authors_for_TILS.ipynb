{
 "cells": [
  {
   "cell_type": "markdown",
   "source": [
    "# Get authors for TILS-WG"
   ],
   "metadata": {
    "collapsed": false
   }
  },
  {
   "cell_type": "code",
   "execution_count": 1,
   "outputs": [],
   "source": [
    "import os\n",
    "from pandas import DataFrame, read_csv, concat"
   ],
   "metadata": {
    "collapsed": false,
    "pycharm": {
     "name": "#%%\n",
     "is_executing": false
    }
   }
  },
  {
   "cell_type": "markdown",
   "source": [
    "## Ground work\n",
    "\n",
    "#### Read files"
   ],
   "metadata": {
    "collapsed": false
   }
  },
  {
   "cell_type": "code",
   "execution_count": 2,
   "outputs": [],
   "source": [
    "# This is the big working group csv file\n",
    "TILWG = read_csv('./TILWG.csv')\n",
    "\n",
    "# These are my authors and affiliations\n",
    "with open('./my_authors.txt', 'r') as f:\n",
    "    MY_AUTHORS = f.read()\n",
    "    MY_AUTHORS = MY_AUTHORS.splitlines()\n",
    "\n",
    "with open('./my_affiliations.txt', 'r') as f:\n",
    "    MY_AFFILIATIONS = f.read()\n",
    "    MY_AFFILIATIONS = MY_AFFILIATIONS.splitlines()"
   ],
   "metadata": {
    "collapsed": false,
    "pycharm": {
     "name": "#%%\n",
     "is_executing": false
    }
   }
  },
  {
   "cell_type": "markdown",
   "source": [
    "#### Some clanup, quality checks, etc. etc."
   ],
   "metadata": {
    "collapsed": false
   }
  },
  {
   "cell_type": "code",
   "execution_count": 3,
   "outputs": [],
   "source": [
    "# This is list of my authors (just author names)\n",
    "my_authors = [\n",
    "    [k.strip() for k in j.split(' | ')] for j in MY_AUTHORS] \n",
    "\n",
    "# same for big WG\n",
    "tilwg_authors = [str(j).strip() for j in list(TILWG.loc[:, 'auth'])] \n",
    "TILWG.loc[:, 'auth'] = tilwg_authors"
   ],
   "metadata": {
    "collapsed": false,
    "pycharm": {
     "name": "#%%\n",
     "is_executing": false
    }
   }
  },
  {
   "cell_type": "code",
   "execution_count": 4,
   "outputs": [],
   "source": [
    "# DATA INTEGRITY CHECK!!!!!!\n",
    "# find commmon authors, keeping in mind there might be some different\n",
    "# capitalization & middle initials\n",
    "\n",
    "def _get_common_authors():\n",
    "    common_authors = tilwg_authors.copy()\n",
    "    nchar1 = 3\n",
    "    nchar2 = 4\n",
    "    # union is a dict where keys are full-wg spelling, and values\n",
    "    # are my spelling.\n",
    "    union = dict()\n",
    "    manual = []\n",
    "    for smy, _ in my_authors:\n",
    "        my = [j.lower() for j in smy.strip().split(' ')]\n",
    "        matched = False\n",
    "        for sfull in tilwg_authors:\n",
    "            full = [j.lower() for j in sfull.strip().split(' ')]\n",
    "            first = my[0][:nchar1] == full[0][:nchar1]\n",
    "            last = my[-1][:nchar2] == full[-1][:nchar2]\n",
    "            if first and last:\n",
    "                common_authors.remove(sfull)\n",
    "                union[sfull] = smy\n",
    "                matched = True\n",
    "        if not matched:\n",
    "            manual.append(smy)\n",
    "    manual = list(set(manual))\n",
    "    return union, manual\n",
    "\n",
    "def _sanity_checks():\n",
    "    assert(len(union) == len(my_authors)), \\\n",
    "        \"Suspiciously duplicate authors found in main TIL-WG!\"\n",
    "    assert(len(manual) == 0), \"These authors need manual fixing: %s\" % manual\n",
    "    \n",
    "    # print authors with misspellings -- my author list is reference point\n",
    "    need_updating = [v for k, v in union.items() if k != v]\n",
    "    if len(need_updating) > 0:\n",
    "        print(\"The following authors are misspelt in main TIL-WG:\")\n",
    "        print(\"\\n\".join(need_updating))\n",
    "\n",
    "# ideally, manual should be empty since all out authors are TILs-WG member\n",
    "# if not you should manually fix those in manual\n",
    "union, manual = _get_common_authors()\n",
    "need_updating = _sanity_checks()"
   ],
   "metadata": {
    "collapsed": false,
    "pycharm": {
     "name": "#%%\n",
     "is_executing": false
    }
   }
  },
  {
   "cell_type": "markdown",
   "source": [
    "#### Combine author and member lists"
   ],
   "metadata": {
    "collapsed": false
   }
  },
  {
   "cell_type": "code",
   "execution_count": 5,
   "outputs": [
    {
     "name": "stderr",
     "text": [
      "/home/mtageld/anaconda3/envs/wsi/lib/python3.6/site-packages/ipykernel_launcher.py:7: SettingWithCopyWarning: \n",
      "A value is trying to be set on a copy of a slice from a DataFrame\n",
      "\n",
      "See the caveats in the documentation: https://pandas.pydata.org/pandas-docs/stable/user_guide/indexing.html#returning-a-view-versus-a-copy\n",
      "  import sys\n"
     ],
     "output_type": "stream"
    }
   ],
   "source": [
    "def _combine_author_and_member_tables():\n",
    "    \n",
    "    # remove authors from the full-wg already in author list\n",
    "    tilwg = TILWG.loc[~TILWG.loc[:, 'auth'].isin(union.keys()), :]\n",
    "    \n",
    "    # now sort non-author member alphabetically as journal wants\n",
    "    tilwg.sort_values('auth', inplace=True, ascending=True)\n",
    "    \n",
    "    # dict mapping affiliation number strings and institutions\n",
    "    my_affiliations = dict()\n",
    "    for aff in MY_AFFILIATIONS:\n",
    "        start = aff.find('.')\n",
    "        my_affiliations[aff[:start].strip()] = aff[start + 1:].strip()\n",
    "    \n",
    "    # create a dataframe for my authors in the same form as main group\n",
    "    my_df = DataFrame(columns=('auth', 'affil')) \n",
    "    for smy, affs in my_authors:\n",
    "        afflist = [j.strip() for j in affs.split(',')]\n",
    "        for aff in afflist:\n",
    "            pos = my_df.shape[0]\n",
    "            my_df.loc[pos, 'auth'] = smy\n",
    "            my_df.loc[pos, 'affil'] = my_affiliations[aff]\n",
    "    \n",
    "    # now concat the two to form the big list\n",
    "    # It's important we do things this way to preserve the order of authors\n",
    "    FULLDF = concat((my_df, tilwg), 0, ignore_index=True)\n",
    "    first_member = len(my_df)\n",
    "\n",
    "    return FULLDF, first_member\n",
    "\n",
    "FULLDF, first_member = _combine_author_and_member_tables()"
   ],
   "metadata": {
    "collapsed": false,
    "pycharm": {
     "name": "#%%\n",
     "is_executing": false
    }
   }
  },
  {
   "cell_type": "markdown",
   "source": [
    "#### Inspect + standardize affiliations"
   ],
   "metadata": {
    "collapsed": false
   }
  },
  {
   "cell_type": "code",
   "execution_count": 6,
   "outputs": [
    {
     "name": "stdout",
     "text": [
      "There are 13 suspiciously similar affiliations that WILL BE MERGED:\n",
      "\n",
      "Division of Research, Peter Mac Callum Cancer Center, Melbourne, Victoria, Australia\n",
      "Division of Research and Cancer Medicine, Peter MacCallum Cancer Centre, University of Melbourne, Victoria, Australia \n",
      "\n",
      "Department of Pathology, Institut Jules Bordet, Brussels, Belgium.\n",
      "Department of Pathology, Institut Jules Bordet, Université Libre de Bruxelles, Brussels, Belgium. \n",
      "\n",
      "Department of Oncology, National Taiwan University, Taipei, Taiwan\n",
      "Department of Oncology, National Taiwan University Cancer Center, Taipei, Taiwan \n",
      "\n",
      "Department of Pathology, Matsuyama Shimin Hospital, Ehime, Japan\n",
      "Department of Pathology, Matsuyama Shimin Hospital, Matsuyama, Japan. \n",
      "\n",
      "Department of Pathology, Universidad de la Frontera, Temuco, Chile\n",
      "Department of Pathology, Universidad de La Frontera, Temuco, Chile. \n",
      "\n",
      "University of British Columbia, Vancouver, British Columbia, Canada\n",
      "University of British Columbia, Vancouver, British Columbia, Canada. \n",
      "\n",
      "Gustave Roussy, Université Paris-Saclay, Villejuif, France\n",
      "Gustave Roussy, Universite Paris-Saclay, Villejuif, France \n",
      "\n",
      "Institut für Pathologie, Universitätsklinikum Gießen und Marburg GmbH, Standort Marburg, Philipps-Universität Marburg, Marburg, Germany\n",
      "Institut für Pathologie, Universitätsklinikum Gießen und Marburg GmbH, Standort Marburg, Philipps-Universität Marburg, Marburg, Germany. \n",
      "\n",
      "Gustave Roussy, Universite Paris-Saclay, Villejuif, France\n",
      "Gustave Roussy, Université Paris-Saclay, Villejuif, France \n",
      "\n",
      "Molecular Immunology Unit, Institut Jules Bordet, Brussels, Belgium.\n",
      "Molecular Immunology Unit, Institut Jules Bordet, Université Libre de Bruxelles, Brussels, Belgium. \n",
      "\n",
      "Pathology Department, CIBERONC-Hospital del Mar, Parc de Salut Mar, Barcelona, Spain\n",
      "Pathology Department, CIBERONC-Instituto de Investigación Sanitaria Fundación Jiménez Díaz (IIS-FJD), Madrid, Spain \n",
      "\n",
      "Department of Medical Oncology, Peter MacCallum Cancer Centre, Melbourne, Australia.\n",
      "Department of Medical Oncology, Peter MacCallum Cancer Centre, Melbourne, VIC, Australia. \n",
      "\n",
      "Department of Pathology, Yale School of Medicine, New Haven, USA\n",
      "Department of Pathology, Yale University School of Medicine, New Haven, CT, USA \n",
      "\n"
     ],
     "output_type": "stream"
    }
   ],
   "source": [
    "# affiliations that we KNOW are not duplicted. This is determined\n",
    "# post-hoc after running the function below and manually inspecting results \n",
    "NOT_SUSPICIOUS = [\n",
    "    'Department of Pathology, University Hospital Ghent, Belgium.',\n",
    "    'Department of Pathology, GZA-ZNA Ziekenhuizen, Antwerp, Belgium',\n",
    "    'Department of Pathology, Gustave Roussy, Grand Paris, France.',\n",
    "    'Department of Pathology, GZA-ZNA Hospitals, Antwerp, Belgium',\n",
    "    'Department of Medical Oncology, Gustave Roussy, Villejuif, France.',\n",
    "    'Division of Molecular Pathology, The Netherlands Cancer Institute, '\n",
    "        + 'Amsterdam, the Netherlands',\n",
    "    'Department of Medical Oncology, Gustave Roussy, Villejuif, France.',\n",
    "    'Division of Molecular Pathology, The Netherlands Cancer Institute, '\n",
    "        + 'Amsterdam, the Netherlands'\n",
    "]\n",
    "\n",
    "def _get_suspiciously_similar_affiliations():\n",
    "    unique_affiliations = list(set(\n",
    "        [j.strip() for j in FULLDF.loc[:, 'affil']]))\n",
    "    affilmap = dict()\n",
    "    n1 = 15\n",
    "    n2 = 5\n",
    "    n3 = 5\n",
    "    for saffil1 in unique_affiliations:\n",
    "        affil1 = [j.strip() for j in saffil1.split(',')]\n",
    "        for saffil2 in unique_affiliations:\n",
    "            affil2 = [j.strip() for j in saffil2.split(',')]\n",
    "            if saffil1 == saffil2:\n",
    "                continue\n",
    "            dept = affil1[0][:n1] == affil2[0][:n1]\n",
    "            uni = affil1[1][:n2] == affil2[1][:n2]\n",
    "            country = affil1[-1][:n3] == affil2[-1][:n3]\n",
    "            if dept and uni and country and (\n",
    "                not any([\n",
    "                    j.strip() in NOT_SUSPICIOUS for j in (saffil1, saffil2)])\n",
    "            ):\n",
    "                # longer version is assumer to be more detailed (i.e better)\n",
    "                if len(saffil1) > len(saffil2):\n",
    "                    affilmap[saffil2] = saffil1\n",
    "                else:\n",
    "                    affilmap[saffil1] = saffil2\n",
    "    \n",
    "    if len(affilmap) > 0:\n",
    "        print(\n",
    "            \"There are %d suspiciously similar affiliations that \"\n",
    "            \"WILL BE MERGED:\\n\" % len(affilmap))\n",
    "        for s1, s2 in affilmap.items():\n",
    "            print(s1)\n",
    "            print(s2, \"\\n\")\n",
    "    \n",
    "    return affilmap\n",
    "\n",
    "def _merge_affiliations():\n",
    "    for a1, a2 in affilmap.items():\n",
    "        FULLDF.loc[FULLDF.loc[:, \"affil\"] == a1, \"affil\"] = a2\n",
    "\n",
    "affilmap = _get_suspiciously_similar_affiliations()\n",
    "_merge_affiliations()"
   ],
   "metadata": {
    "collapsed": false,
    "pycharm": {
     "name": "#%%\n",
     "is_executing": false
    }
   }
  },
  {
   "cell_type": "markdown",
   "source": [
    "## Format combined author and member strings"
   ],
   "metadata": {
    "collapsed": false
   }
  },
  {
   "cell_type": "code",
   "execution_count": 7,
   "outputs": [],
   "source": [
    "# This assumes that if the same author has two or more affiliations, he/she\n",
    "# appears in CONSECUTIVE ROWS in the dataframe\n",
    "\n",
    "affil_no = dict()\n",
    "done_auths = []\n",
    "AUTHSTR = \"\"\n",
    "AFFILSTR = \"\"\n",
    "\n",
    "# name of first member\n",
    "fmname = FULLDF.iloc[first_member, :][\"auth\"]\n",
    "\n",
    "affid = 0\n",
    "\n",
    "for _, row in FULLDF.iterrows():\n",
    "    auth = row['auth']\n",
    "    affil = row['affil']\n",
    "    \n",
    "    # make sure we know where to find this first_member\n",
    "    if auth == fmname:\n",
    "        fmloc = len(AUTHSTR)\n",
    "        faloc = len(AFFILSTR)\n",
    "    \n",
    "    # add author to author string\n",
    "    if auth not in done_auths:\n",
    "        AUTHSTR += ', ' + auth\n",
    "    else:\n",
    "        AUTHSTR += '<sup>, </sup>'\n",
    "    \n",
    "    # add affiliation to this author\n",
    "    affil_exists = affil not in affil_no.keys()\n",
    "    fno = affid + 1 if affil_exists else affil_no[affil]\n",
    "    AUTHSTR += \"<sup>%d</sup>\" % fno\n",
    "    \n",
    "    # add affiliation to affiliation string if not there\n",
    "    if affil_exists:\n",
    "        AFFILSTR += \", <sup>%d </sup>%s\" % (fno, affil)\n",
    "        \n",
    "    # keep in memory\n",
    "    done_auths.append(auth)\n",
    "    affil_no[fno] = affil\n",
    "    affid += 1\n",
    "\n",
    "AUTHSTR = AUTHSTR[2:]\n",
    "AFFILSTR = AFFILSTR[2:]\n",
    "    "
   ],
   "metadata": {
    "collapsed": false,
    "pycharm": {
     "name": "#%%\n",
     "is_executing": false
    }
   }
  },
  {
   "cell_type": "markdown",
   "source": [
    "## Split author and member lists"
   ],
   "metadata": {
    "collapsed": false
   }
  },
  {
   "cell_type": "code",
   "execution_count": 8,
   "outputs": [],
   "source": [
    "PAPER_AUTHORS = AUTHSTR[:fmloc]\n",
    "PAPER_AFFILS = AFFILSTR[:faloc]\n",
    "WG_MEMBERS = AUTHSTR[fmloc:]\n",
    "WG_AFFILS = AFFILSTR[faloc:]\n",
    "\n",
    "# conform to journal style\n",
    "PAPER_AUTHORS += \\\n",
    "    \"International Immuno-Oncology Biomarker Working Group<sup>*</sup>\"\n",
    "PAPER_AFFILS += \"<sup>* </sup>A full list of members and their affiliations\" \\\n",
    "                + \" is available at the end of the manuscript.\"\n",
    "\n",
    "FINALSTR = \"<b>Authors:</b>\"\n",
    "FINALSTR += '<br />'\n",
    "FINALSTR += PAPER_AUTHORS\n",
    "FINALSTR += '<br /> <br />'\n",
    "FINALSTR += \"<b>Affiliations:</b>\"\n",
    "FINALSTR += '<br />'\n",
    "FINALSTR += PAPER_AFFILS\n",
    "FINALSTR += '<br /> <br />'\n",
    "FINALSTR += \"<b>Working Group members:</b>\"\n",
    "FINALSTR += '<br />'\n",
    "FINALSTR += WG_MEMBERS\n",
    "FINALSTR += '<br /> <br />'\n",
    "FINALSTR += \"<b>Working Group affiliations:</b>\"\n",
    "FINALSTR += '<br />'\n",
    "FINALSTR += WG_AFFILS\n",
    "\n",
    "\n",
    "with open('./formatted_list.html', 'w') as f:\n",
    "    f.write(FINALSTR)"
   ],
   "metadata": {
    "collapsed": false,
    "pycharm": {
     "name": "#%%\n",
     "is_executing": false
    }
   }
  },
  {
   "cell_type": "code",
   "source": [
    "from IPython.display import HTML\n",
    "\n",
    "HTML(filename=\"./formatted_list.html\")"
   ],
   "metadata": {
    "collapsed": false,
    "pycharm": {
     "name": "#%% \n",
     "is_executing": false
    }
   },
   "execution_count": 9,
   "outputs": [
    {
     "data": {
      "text/plain": "<IPython.core.display.HTML object>",
      "text/html": "<b>Authors:</b><br />Mohamed Amgad<sup>1</sup>, Elisabeth Specht Stovgaard<sup>2</sup>, Eva Balslev<sup>3</sup>, Jeppe Thagaard<sup>4</sup><sup>, </sup><sup>5</sup>, Weijie Chen<sup>6</sup>, Sarah Dudgeon<sup>7</sup>, Ashish Sharma<sup>8</sup>, Jennifer K. Kerner<sup>9</sup>, Carsten Denkert<sup>10</sup><sup>, </sup><sup>11</sup><sup>, </sup><sup>12</sup>, Yinyin Yuan<sup>13</sup><sup>, </sup><sup>14</sup>, Khalid AbdulJabbar<sup>15</sup><sup>, </sup><sup>16</sup>, Stephan Wienert<sup>17</sup>, Peter Savas<sup>18</sup><sup>, </sup><sup>19</sup>, Leonie Voorwerk<sup>20</sup>, Andrew H. Beck<sup>21</sup>, Anant Madabhushi<sup>22</sup><sup>, </sup><sup>23</sup>, Johan Hartman<sup>24</sup>, Manu M. Sebastian<sup>25</sup>, Hugo M. Horlings<sup>26</sup>, Jan Hudeček<sup>27</sup>, Francesco Ciompi<sup>28</sup>, David A. Moore<sup>29</sup>, Rajendra Singh<sup>30</sup>, Elvire Roblin<sup>31</sup>, Marcelo Luiz Balancin<sup>32</sup>, Marie-Christine Mathieu<sup>33</sup>, Jochen K. Lennerz<sup>34</sup>, Pawan Kirtani<sup>35</sup>, I-Chun Chen<sup>36</sup><sup>, </sup><sup>37</sup>, Jeremy P. Braybrooke<sup>38</sup><sup>, </sup><sup>39</sup>, Giancarlo Pruneri<sup>40</sup>, Sandra Demaria<sup>41</sup>, Sylvia Adams<sup>42</sup>, Stuart J. Schnitt<sup>43</sup>, Sunil R. Lakhani<sup>44</sup>, Federico Rojo<sup>45</sup><sup>, </sup><sup>46</sup>, Laura Comerma<sup>47</sup><sup>, </sup><sup>48</sup>, Sunil S. Badve<sup>49</sup>, Mehrnoush Khojasteh<sup>50</sup>, William Fraser Symmans<sup>51</sup>, Christos Sotiriou<sup>52</sup><sup>, </sup><sup>53</sup>, Paula Gonzalez-Ericsson<sup>54</sup>, Katherine L. Pogue-Geile<sup>55</sup>, Rim S. Kim<sup>56</sup>, David L. Rimm<sup>57</sup>, Giuseppe Viale<sup>58</sup>, Stephen M. Hewitt<sup>59</sup>, John M.S. Bartlett<sup>60</sup><sup>, </sup><sup>61</sup>, Frédérique Penault-Llorca<sup>62</sup><sup>, </sup><sup>63</sup>, Shom Goel<sup>64</sup>, Huang-Chun Lien<sup>65</sup>, Sibylle Loibl<sup>66</sup>, Zuzana Kos<sup>67</sup>, Sherene Loi<sup>68</sup><sup>, </sup><sup>69</sup>, Matthew G. Hanna<sup>70</sup>, Stefan Michiels<sup>71</sup><sup>, </sup><sup>72</sup>, Marleen Kok<sup>73</sup><sup>, </sup><sup>74</sup>, Torsten O. Nielsen<sup>75</sup>, Alexander J. Lazar<sup>76</sup><sup>, </sup><sup>77</sup><sup>, </sup><sup>78</sup><sup>, </sup><sup>79</sup>, Zsuzsanna Bago-Horvath<sup>80</sup>, Loes F.S. Kooreman<sup>81</sup><sup>, </sup><sup>82</sup>, Jeroen A.W.M. van der Laak<sup>83</sup><sup>, </sup><sup>84</sup>, Joel Saltz<sup>85</sup>, Brandon D. Gallas<sup>86</sup>, Uday Kurkure<sup>87</sup>, Michael Barnes<sup>88</sup>, Roberto Salgado<sup>89</sup><sup>, </sup><sup>90</sup>, Lee A.D. Cooper<sup>91</sup>, International Immuno-Oncology Biomarker Working Group<sup>*</sup><br /> <br /><b>Affiliations:</b><br /><sup>1 </sup>Department of Biomedical Informatics, Emory University School of Medicine, Atlanta, GA, USA, <sup>2 </sup>Department of Pathology, Herlev and Gentofte Hospital, University of Copenhagen, Herlev, Denmark, <sup>3 </sup>Department of Pathology, Herlev and Gentofte Hospital, University of Copenhagen, Herlev, Denmark, <sup>4 </sup>DTU Compute, Department of Applied Mathematics, Technical University of Denmark, Denmark, <sup>5 </sup>Visiopharm A/S, Hørsholm, Denmark, <sup>6 </sup>FDA/CDRH/OSEL/Division of Imaging, Diagnostics, and Software Reliability, Silver Spring, MD, USA, <sup>7 </sup>FDA/CDRH/OSEL/Division of Imaging, Diagnostics, and Software Reliability, Silver Spring, MD, USA, <sup>8 </sup>Department of Biomedical Informatics, Emory University School of Medicine, Atlanta, GA, USA, <sup>9 </sup>PathAI, Cambridge, MA, USA, <sup>10 </sup>Institut für Pathologie, Universitätsklinikum Gießen und Marburg GmbH, Standort Marburg, Philipps-Universität Marburg, Marburg, Germany., <sup>11 </sup>Institute of Pathology, Philipps-University Marburg, Germany, <sup>12 </sup>German Cancer Consortium (DKTK), Partner Site Charité, Berlin, Germany, <sup>13 </sup>Centre for Evolution and Cancer, The Institute of Cancer Research, London, UK, <sup>14 </sup>Division of Molecular Pathology, The Institute of Cancer Research, London, UK, <sup>15 </sup>Centre for Evolution and Cancer, The Institute of Cancer Research, London, UK, <sup>16 </sup>Division of Molecular Pathology, The Institute of Cancer Research, London, UK, <sup>17 </sup>Institut für Pathologie, Universitätsklinikum Gießen und Marburg GmbH, Standort Marburg, Philipps-Universität Marburg, Marburg, Germany., <sup>18 </sup>Division of Research and Cancer Medicine, Peter MacCallum Cancer Centre, University of Melbourne, Victoria, Australia, <sup>19 </sup>Sir Peter MacCallum Department of Oncology, University of Melbourne, Parkville, Australia, <sup>20 </sup>Department of Molecular Oncology &amp; Immunology, The Netherlands Cancer Institute Amsterdam, Amsterdam, The Netherlands, <sup>21 </sup>PathAI, Cambridge, MA, USA, <sup>22 </sup>Case Western Reserve University, Department of Biomedical Engineering, Cleveland, OH, USA, <sup>23 </sup>Louis Stokes Cleveland Veterans Administration Medical Center, Cleveland, OH, USA, <sup>24 </sup>Department of Oncology and Pathology, Karolinska Institutet and University Hospital, Solna, Sweden, <sup>25 </sup>Departments of Epigenetics and Molecular Carcinogenesis, The University of Texas MD Anderson Cancer Center, Houston, TX, USA, <sup>26 </sup>Division of Molecular Pathology, The Netherlands Cancer Institute, Amsterdam, the Netherlands, <sup>27 </sup>Department of Research IT, The Netherlands Cancer Institute, Amsterdam, the Netherlands, <sup>28 </sup>Department of Pathology, Radboud University Medical Center, Nijmegen, the Netherlands, <sup>29 </sup>Department of Pathology, UCL Cancer Institute, UK, <sup>30 </sup>Department of Pathology and Laboratory Medicine, Icahn School of Medicine at Mount Sinai, New York, NY, USA, <sup>31 </sup>Université Paris-Saclay, Univ. Paris-Sud, Villejuif, France, <sup>32 </sup>Department of Pathology, Faculty of Medicine, University of São Paulo, São Paulo, Brazil, <sup>33 </sup>Department of Medical Biology and Pathology, Gustave Roussy Cancer Campus, Villejuif, France, <sup>34 </sup>Department of Pathology, Massachusetts General Hospital, Boston, MA, USA, <sup>35 </sup>Department of Histopathology, Manipal Hospitals Dwarka, New Delhi, India, <sup>36 </sup>Department of Oncology, National Taiwan University Cancer Center, Taipei, Taiwan, <sup>37 </sup>Department of Oncology, National Taiwan University Cancer Center, Taipei, Taiwan, <sup>38 </sup>Nuffield Department of Population Health, University of Oxford, Oxford, UK, <sup>39 </sup>Department of Medical Oncology, University Hospitals Bristol NHS Foundation Trust, Bristol, UK, <sup>40 </sup>Pathology Department, Fondazione IRCCS Istituto Nazionale Tumori and University of Milan, School of Medicine, Milan, Italy, <sup>41 </sup>Weill Cornell Medical College, New York, NY, USA, <sup>42 </sup>Laura and Isaac Perlmutter Cancer Center, NYU Langone Medical Center, New York, NY, USA, <sup>43 </sup>Department of Pathology, Brigham and Women&#39;s Hospital, Boston, MA, USA, <sup>44 </sup>The University of Queensland Centre for Clinical Research and Pathology Queensland, Brisbane, Australia, <sup>45 </sup>Pathology Department, CIBERONC-Instituto de Investigación Sanitaria Fundación Jiménez Díaz (IIS-FJD), Madrid, Spain, <sup>46 </sup>GEICAM-Spanish Breast Cancer Research Group, Madrid, Spain, <sup>47 </sup>GEICAM-Spanish Breast Cancer Research Group, Madrid, Spain, <sup>48 </sup>Pathology Department, CIBERONC-Instituto de Investigación Sanitaria Fundación Jiménez Díaz (IIS-FJD), Madrid, Spain, <sup>49 </sup>Department of Pathology and Laboratory Medicine, Indiana University School of Medicine, Indianapolis, IN, USA, <sup>50 </sup>Roche Tissue Diagnostics, Digital Pathology, Santa Clara, CA, USA, <sup>51 </sup>Department of Pathology, The University of Texas MD Anderson Cancer Center, Houston, TX, USA, <sup>52 </sup>Breast Cancer Translational Research Laboratory, Institut Jules Bordet, Université Libre de Bruxelles (ULB), Brussels, Belgium, <sup>53 </sup>ULB-Cancer Research Center (U-CRC) Université Libre de Bruxelles, Brussels, Belgium, <sup>54 </sup>Breast Cancer Program, Vanderbilt-Ingram Cancer Center, Vanderbilt University Medical Center, Nashville, TN, USA, <sup>55 </sup>NRG Oncology/NSABP, Pittsburgh, PA, USA, <sup>56 </sup>NRG Oncology/NSABP, Pittsburgh, PA, USA, <sup>57 </sup>Department of Pathology, Yale University School of Medicine, New Haven, CT, USA, <sup>58 </sup>Department of Pathology, IEO, European Institute of Oncology IRCCS &amp; State University of Milan, Milan, Italy, <sup>59 </sup>Laboratory of Pathology, National Cancer Institute, National Institutes of Health, Bethesda, MD, USA, <sup>60 </sup>Ontario Institute for Cancer Research, Toronto, Ontario, Canada, <sup>61 </sup>Edinburgh Cancer Research Centre, Western General Hospital, Edinburgh, UK, <sup>62 </sup>Department of Pathology and Molecular Pathology, Centre Jean Perrin, Clermont-Ferrand, France, <sup>63 </sup>UMR INSERM 1240, Universite Clermont Auvergne, Clermont-Ferrand, France, <sup>64 </sup>Department of Cancer Biology, Dana-Farber Cancer Institute, Boston, MA, USA, <sup>65 </sup>Department of Pathology, National Taiwan University Hospital, Taipei, Taiwan, <sup>66 </sup>German Breast Group, c/o GBG-Forschungs GmbH, Neu-Isenburg, Germany, <sup>67 </sup>Department of Pathology, BC Cancer, Vancouver, British Columbia, Canada, <sup>68 </sup>Peter MacCallum Cancer Centre, Melbourne, Australia, <sup>69 </sup>Sir Peter MacCallum Department of Oncology, University of Melbourne, Parkville, Australia, <sup>70 </sup>Department of Pathology, Memorial Sloan Kettering Cancer Center, New York, NY, USA, <sup>71 </sup>Gustave Roussy, Université Paris-Saclay, Villejuif, France, <sup>72 </sup>Université Paris-Sud, Institut National de la Santé et de la Recherche Médicale, Villejuif, France, <sup>73 </sup>Division of Molecular Oncology &amp; Immunology, The Netherlands Cancer Institute, Amsterdam, the Netherlands, <sup>74 </sup>Department of Medical Oncology, The Netherlands Cancer Institute, Amsterdam, the Netherlands, <sup>75 </sup>University of British Columbia, Vancouver, British Columbia, Canada., <sup>76 </sup>Department of Pathology, The University of Texas MD Anderson Cancer Center, Houston, TX, USA, <sup>77 </sup>Department of Genomic Medicine, The University of Texas MD Anderson Cancer Center, Houston, TX, USA, <sup>78 </sup>Department of Translational Molecular Pathology, The University of Texas MD Anderson Cancer Center, Houston, TX, USA, <sup>79 </sup>Department of Dermatology, The University of Texas MD Anderson Cancer Center, Houston, TX, USA, <sup>80 </sup>Department of Pathology, Medical University of Vienna, Vienna, Austria, <sup>81 </sup>GROW - School for Oncology and Developmental Biology, Maastricht University Medical Centre, Maastricht, The Netherlands, <sup>82 </sup>Department of Pathology, Maastricht University Medical Centre, Maastricht, The Netherlands, <sup>83 </sup>Department of Pathology, Radboud University Medical Center, Nijmegen, Netherlands, <sup>84 </sup>Center for Medical Image Science and Visualization, Linköping University, Linköping, Sweden, <sup>85 </sup>Department of Biomedical Informatics, Stony Brook University, Stony Brook, NY, USA, <sup>86 </sup>FDA/CDRH/OSEL/Division of Imaging, Diagnostics, and Software Reliability, Silver Spring, MD, USA, <sup>87 </sup>Roche Tissue Diagnostics, Digital Pathology, Santa Clara, CA, USA, <sup>88 </sup>Roche Diagnostics Information Solutions, Belmont, CA, USA, <sup>89 </sup>Department of Pathology, GZA-ZNA Ziekenhuizen, Antwerp, Belgium, <sup>90 </sup>Division of Research and Cancer Medicine, Peter MacCallum Cancer Centre, University of Melbourne, Victoria, Australia, <sup>91 </sup>Department of Pathology, Northwestern University Feinberg School of Medicine, Chicago, IL, USA, <sup>* </sup>A full list of members and their affiliations is available at the end of the manuscript.<br /> <br /><b>Working Group members:</b><br />Aini Hyytiäinen<sup>92</sup>, Akira I. Hida<sup>93</sup><sup>, </sup><sup>94</sup>, Alastair Thompson<sup>95</sup>, Alex Lefevre<sup>96</sup>, Allen Gown<sup>97</sup>, Amy Lo<sup>98</sup>, Ana Sapino<sup>99</sup>, Andre Moreira<sup>100</sup>, Andrea Richardson<sup>101</sup>, Andrea Vingiani<sup>102</sup>, Andrew M. Bellizzi<sup>103</sup>, Andrew Tutt<sup>104</sup>, Angel Guerrero<sup>105</sup>, Anita Grigoriadis<sup>106</sup><sup>, </sup><sup>107</sup>, Anna Ehinger<sup>108</sup>, Anna Garrido Castro<sup>109</sup>, Anne Vincent-Salomon<sup>110</sup>, Anne-Vibeke Laenkholm<sup>111</sup>, Ashley Cimino-Mathews<sup>112</sup>, Ashok Srinivasan<sup>113</sup>, Balazs Acs<sup>114</sup>, Baljit Singh<sup>115</sup>, Benjamin Calhoun<sup>116</sup>, Benjamin Haibe-Kans<sup>117</sup>, Benjamin Solomon<sup>118</sup>, Bibhusal Thapa<sup>119</sup>, Brad H. Nelson<sup>120</sup>, Carlos Castaneda<sup>121</sup><sup>, </sup><sup>122</sup>, Carmen Ballesteroes-Merino<sup>123</sup>, Carmen Criscitiello<sup>124</sup>, Carolien Boeckx<sup>125</sup>, Cecile Colpaert<sup>126</sup>, Cecily Quinn<sup>127</sup>, Chakra S. Chennubhotla<sup>128</sup>, Charles Swanton<sup>129</sup>, Cinzia Solinas<sup>130</sup>, Crispin Hiley<sup>131</sup>, Damien Drubay<sup>132</sup><sup>, </sup><sup>133</sup>, Daniel Bethmann<sup>134</sup>, Deborah A. Dillon<sup>135</sup>, Denis Larsimont<sup>136</sup>, Dhanusha Sabanathan<sup>137</sup>, Dieter Peeters<sup>138</sup>, Dimitrios Zardavas<sup>139</sup>, Doris Höflmayer<sup>140</sup>, Douglas B. Johnson<sup>141</sup>, E. Aubrey Thompson<sup>142</sup>, Edi Brogi<sup>143</sup>, Edith Perez<sup>144</sup>, Ehab A. ElGabry<sup>145</sup>, Elizabeth F. Blackley<sup>146</sup>, Emily Reisenbichler<sup>147</sup>, Enrique Bellolio<sup>148</sup><sup>, </sup><sup>149</sup>, Ewa Chmielik<sup>150</sup>, Fabien Gaire<sup>151</sup>, Fabrice Andre<sup>152</sup>, Fang-I Lu<sup>153</sup>, Farid Azmoudeh-Ardalan<sup>154</sup>, Forbius Tina Gruosso<sup>155</sup>, Franklin Peale<sup>156</sup>, Fred R. Hirsch<sup>157</sup>, Frederick Klaushen<sup>158</sup>, Gabriela Acosta-Haab<sup>159</sup>, Gelareh Farshid<sup>160</sup>, Gert Van den Eynden<sup>161</sup>, Giuseppe Curigliano<sup>162</sup><sup>, </sup><sup>163</sup>, Giuseppe Floris<sup>164</sup><sup>, </sup><sup>165</sup>, Glenn Broeckx<sup>166</sup>, Gonzalez-Ericsson<sup>167</sup>, Harmut Koeppen<sup>168</sup>, Harry R. Haynes<sup>169</sup>, Heather McArthur<sup>170</sup>, Heikki Joensuu<sup>171</sup>, Helena Olofsson<sup>172</sup>, Ian Cree<sup>173</sup>, Iris Nederlof<sup>174</sup>, Isabel Frahm<sup>175</sup>, Iva Brcic<sup>176</sup>, Jack Chan<sup>177</sup>, Jacqueline A. Hall<sup>178</sup>, James Ziai<sup>179</sup>, Jane Brock<sup>180</sup>, Jelle Weseling<sup>181</sup>, Jennifer Giltnane<sup>182</sup>, Jerome Lemonnier<sup>183</sup>, Jiping Zha<sup>184</sup>, Joana Ribeiro<sup>185</sup>, Jodi M. Carter<sup>186</sup>, Johannes Hainfellner<sup>187</sup>, John Le Quesne<sup>188</sup>, Jonathon W. Juco<sup>189</sup>, Jorge Reis-Filho<sup>190</sup><sup>, </sup><sup>191</sup>, Jose van den Berg<sup>192</sup>, Joselyn Sanchez<sup>193</sup>, Joseph Sparano<sup>194</sup>, Joël Cucherousset<sup>195</sup>, Juan Carlos Araya<sup>196</sup>, Julien Adam<sup>197</sup>, Justin M. Balko<sup>198</sup>, Kai Saeger<sup>199</sup>, Kalliopi Siziopikou<sup>200</sup>, Karen Willard-Gallo<sup>201</sup>, Karolina Sikorska<sup>202</sup>, Karsten Weber<sup>203</sup>, Keith E. Steele<sup>204</sup>, Kenneth Emancipator<sup>205</sup>, Khalid El Bairi<sup>206</sup>, Kim R.M. Blenman<sup>207</sup>, Kimberly H. Allison<sup>208</sup>, Koen K. van de Vijver<sup>209</sup>, Konstanty Korski<sup>210</sup>, Lajos Pusztai<sup>211</sup>, Laurence Buisseret<sup>212</sup>, Leming Shi<sup>213</sup>, Liu Shi-wei<sup>214</sup>, Luciana Molinero<sup>215</sup>, M. Valeria Estrada<sup>216</sup>, Maartje Van Seijen<sup>217</sup>, Magali Lacroix-Triki<sup>218</sup>, Maggie Cheang<sup>219</sup>, Maise al Bakir<sup>220</sup>, Maria Vittoria Dieci<sup>221</sup>, Mark van de Vijver<sup>222</sup>, Marlon C. Rebelatto<sup>223</sup>, Martine Piccart<sup>224</sup>, Matthew P. Goetz<sup>225</sup>, Matthias Preusser<sup>226</sup>, Melinda E. Sanders<sup>227</sup>, Meredith M. Regan<sup>228</sup><sup>, </sup><sup>229</sup>, Michael Christie<sup>230</sup>, Michael Misialek<sup>231</sup>, Michail Ignatiadis<sup>232</sup>, Michiel de Maaker<sup>233</sup>, Mieke Van Bockstal<sup>234</sup>, Miluska Castillo<sup>235</sup>, Nadia Harbeck<sup>236</sup>, Nadine Tung<sup>237</sup>, Nele Laudus<sup>238</sup>, Nicolas Sirtaine<sup>239</sup>, Nicole Burchardi<sup>240</sup>, Nils Ternes<sup>241</sup>, Nina Radosevic-Robin<sup>242</sup>, Oleg Gluz<sup>243</sup>, Oliver Grimm<sup>244</sup>, Paolo Nuciforo<sup>245</sup>, Paul Jank<sup>246</sup>, Peter H. Watson<sup>247</sup>, Peter Jelinic<sup>248</sup>, Prudence A Francis<sup>249</sup><sup>, </sup><sup>250</sup>, Prudence A. Russell<sup>251</sup>, Robert H. Pierce<sup>252</sup>, Robert Hills<sup>253</sup>, Roberto Leon-Ferre<sup>254</sup>, Roland de Wind<sup>255</sup>, Ruohong Shui<sup>256</sup>, Sabine Declercq<sup>257</sup>, Sam Leung<sup>258</sup>, Sami Tabbarah<sup>259</sup>, Sandra C Souza<sup>260</sup>, Sandra O’Toole<sup>261</sup>, Sandra Swain<sup>262</sup>, Scooter Willis<sup>263</sup>, Scott Ely<sup>264</sup>, Seong- Rim Kim<sup>265</sup>, Shahinaz Bedri<sup>266</sup>, Sheeba Irshad<sup>267</sup><sup>, </sup><sup>268</sup>, Shi-Wei Liu<sup>269</sup>, Shona Hendry<sup>270</sup>, Simonetta Bianchi<sup>271</sup>, Sofia Bragança<sup>272</sup>, Soonmyung Paik<sup>273</sup>, Stephen B. Fox<sup>274</sup>, Stephen J. Luen<sup>275</sup>, Stephen Naber<sup>276</sup>, Sua Luz<sup>277</sup>, Susan Fineberg<sup>278</sup>, Teresa Soler<sup>279</sup>, Thomas Gevaert<sup>280</sup>, Timothy d’Alfons<sup>281</sup>, Tom John<sup>282</sup>, Tomohagu Sugie<sup>283</sup>, Veerle Bossuyt<sup>284</sup>, Venkata Manem<sup>285</sup>, Vincente Peg Cámaea<sup>286</sup>, Weida Tong<sup>287</sup>, Wentao Yang<sup>288</sup>, William T. Tran<sup>289</sup>, Yihong Wang<sup>290</sup>, Yves Allory<sup>291</sup>, Zaheed Husain<sup>292</sup><br /> <br /><b>Working Group affiliations:</b><br /><sup>92 </sup>Department of Oral and Maxillofacial Diseases, Helsinki, Finland, <sup>93 </sup>Department of Pathology, Matsuyama Shimin Hospital, Matsuyama, Japan., <sup>94 </sup>Department of Pathology, Matsuyama Shimin Hospital, Matsuyama, Japan., <sup>95 </sup>Surgical Oncology, Baylor College of Medicine, Texas, USA., <sup>96 </sup>Roche Diagnostics, Belg, <sup>97 </sup>PhenoPath Laboratories, Seattle, USA., <sup>98 </sup>Research Pathology, Genentech Inc., South San Francisco, USA., <sup>99 </sup>University of Turin / Candiolo Cancer Institute - FPO, IRCCS, Candiolo, Italy, <sup>100 </sup>Pulmonary Pathology, New York University Center for Biospecimen Research and Development, New York University, New York, New York, USA., <sup>101 </sup>Department of Pathology, Johns Hopkins Hospital, Baltimore, USA., <sup>102 </sup>Department of Pathology, Istituto Europeo di Oncologia, University of Milan, Milan, Italy., <sup>103 </sup>Department of Pathology, University of Iowa Hospitals and Clinics, Iowa City, USA., <sup>104 </sup>Breast Cancer Now Toby Robins Research Centre, The Institute of Cancer Research, London, UK, <sup>105 </sup>Department of Oncology, IVO Valencia, Spain., <sup>106 </sup>Cancer Bioinformatics Lab, Cancer Centre at Guy’s Hospital, London, UK, <sup>107 </sup>School of Life Sciences and Medicine, King’s College London, London, UK, <sup>108 </sup>Lund University, Skane University Hospital, Department of Clinical Sciences Lund, Oncology and Pathology, Lund, Sweden, <sup>109 </sup>Dana Farber Cancer Institute, Boston, USA., <sup>110 </sup>Institut Curie, Paris Sciences Lettres Université, Inserm U934, Department of Pathology, Paris, France., <sup>111 </sup>Department of Surgical Pathology Zealand University Hospital, Demark, <sup>112 </sup>Departments of Pathology and Oncology, The Johns Hopkins Hospital, Baltimore, USA., <sup>113 </sup>National Surgical Adjuvant Breast and Bowel Project Operations Center/NRG Oncology, Pittsburgh, Pennsylvania, USA., <sup>114 </sup>Department of Pathology, Karolinska Institute, Sweden, <sup>115 </sup>Department of Pathology, New York University Langone Medical Centre, New York, USA., <sup>116 </sup>Department of Pathology and Laboratory Medicine, UNC School of Medicine, USA., <sup>117 </sup>Bioinformatics and Computational Genomics Laboratory, Princess Margaret Cancer Center, Toronto, Canada., <sup>118 </sup>Department of Medical Oncology, Peter MacCallum Cancer Centre, Melbourne, VIC, Australia., <sup>119 </sup>Department of Medicine, University of Melbourne, Parkville, Australia., <sup>120 </sup>Trev & Joyce Deeley Research Centre, British Columbia Cancer Agency, Victoria, Canada., <sup>121 </sup>Department of Research, Instituto Nacional de Enfermedades Neoplásicas, Lima, Perú., <sup>122 </sup>Department of Research, Instituto Nacional de Enfermedades Neoplasicas, Lima 15038, Peru, <sup>123 </sup>Providence Cancer Research Center, Portland, Oregon, USA., <sup>124 </sup>Department of Medical Oncology, Istituto Europeo di Oncologia, Milan, Italy., <sup>125 </sup>Roche Diagnostics, Belgium., <sup>126 </sup>Department of Pathology, AZ Turnhout, Turnhout, Belgium., <sup>127 </sup>Department of Pathology, St Vincent's University Hospital and University College Dublin, Dublin, Ireland, <sup>128 </sup>Department of Computational and Systems Biology, University of Pittsburgh, USA., <sup>129 </sup>Cancer Research UK Lung Cancer Centre of Excellence, University College London Cancer Institute, University College London, London, UK, <sup>130 </sup>Azienda AUSL, Regional Hospital of Aosta, Aosta, Italy, <sup>131 </sup>Cancer Research UK Lung Cancer Centre of Excellence, University College London Cancer Institute, University College London, London, UK, <sup>132 </sup>Gustave Roussy, Université Paris-Saclay, Villejuif, France, <sup>133 </sup>Université Paris-Sud, Institut National de la Santé et de la Recherche Médicale, Villejuif, France, <sup>134 </sup>University Hospital Halle (Saale), Institute of Pathology, Halle (Saale), Germany, <sup>135 </sup>Department of Pathology, Brigham and Women’s Hospital, Boston, MA Department of Pathology, Dana Farber Cancer Institute, Boston, MA, <sup>136 </sup>Department of Pathology, Jules Bordet Institute, Brussels, Belgium, <sup>137 </sup>Department of Clinical Medicine, Macquarie University, Sydney, Australia, <sup>138 </sup>HistoGeneX NV, Antwerp, Belgium and AZ Sint-Maarten Hospital, Mechelen, Belgium., <sup>139 </sup>Oncology Clinical Development, Bristol-Myers Squibb, Princeton, USA., <sup>140 </sup>Institut für Pathologie , UK Hamburg, Germany., <sup>141 </sup>Department of Medicine, Vanderbilt University Medical Centre, Nashville, USA., <sup>142 </sup>Department of Cancer Biology, Mayo Clinic, Jacksonville, USA., <sup>143 </sup>Department of Pathology, Memorial Sloan Kettering Cancer Center, New York, NY, USA, <sup>144 </sup>Department of Oncology, Mayo Clinic, Rochester, USA., <sup>145 </sup>Roche, Tucson, USA, <sup>146 </sup>Department of Medical Oncology, Peter MacCallum Cancer Centre, Melbourne, VIC, Australia., <sup>147 </sup>Department of Pathology, Yale University School of Medicine, New Haven, CT, USA, <sup>148 </sup>Department of Pathology, Universidad de La Frontera, Temuco, Chile., <sup>149 </sup>Departamento de Anatomía Patológica, Universidad de La Frontera. Temuco, Chile, <sup>150 </sup>Tumor Pathology Department, Maria Sklodowska-Curie Memorial Cancer Center, Gliwice, Poland., <sup>151 </sup>Pathology and Tissue Analytics, Roche., <sup>152 </sup>Department of Medical Oncology, Gustave Roussy, Villejuif, France., <sup>153 </sup>Sunnybrook Health Sciences Centre, Toronto, Canada, <sup>154 </sup>Tehran University of Medical Sciences, Iran., <sup>155 </sup>Translational Research, Montreal, Canada., <sup>156 </sup>Oncology Biomarker Development, Genentech-Roche., <sup>157 </sup>Division of Medical Oncology, Department of Medicine, University of Colorado Anschutz Medical Campus, Aurora, USA., <sup>158 </sup>Institute of Pathology, Charité Universitätsmedizin Berlin, Berlin, Germany, <sup>159 </sup>Department of Pathology, Hospital de Oncología Maria Curie, Buenos Aires, Argentina, <sup>160 </sup>Directorate of Surgical Pathology, SA Pathology, Adelaide, Australia., <sup>161 </sup>Department of Pathology, GZA-ZNA Ziekenhuizen, Wilrijk, Belgium., <sup>162 </sup>University of Milano, Istituto Europeo di Oncologia, IRCCS, Milano, Italy, <sup>163 </sup>Division of Early Drug Development for Innovative Therapy, IEO, European Institute of Oncology IRCCS, Milan, Italy, <sup>164 </sup>Department of Imaging and Pathology, Laboratory of Translational Cell & Tissue Research, Leuven, Belgium, <sup>165 </sup>KU Leuven- University Hospitals Leuven, Department of Pathology, Leuven, Belgium, <sup>166 </sup>Department of Pathology, University Hospital Antwerp, Belgium., <sup>167 </sup>Paula I, Breast Cancer Research Program, Vanderbilt University Medical Center, Nashville, USA., <sup>168 </sup>Research Pathology, Genentech Inc., South San Francisco, USA., <sup>169 </sup>Translational Health Sciences, Department of Cellular Pathology, North Bristol NHS Trust, University of Bristol, UK, <sup>170 </sup>Medical Oncology, Department of Medicine, Cedars-Sinai Medical Center, Los Angeles, USA, <sup>171 </sup>Helsinki University Central Hospital, Helsinki, Finland, <sup>172 </sup>Department of Clinical Pathology, Akademiska University Hospital, Uppsala, Sweden, <sup>173 </sup>International Agency for Research on Cancer (IARC), World Health Organization, Lyon, France., <sup>174 </sup>Division of Molecular Pathology, The Netherlands Cancer Institute, Amsterdam, The Netherlands, <sup>175 </sup>Department of Pathology, Sanatorio Mater Dei, Buenos Aires, Argentina., <sup>176 </sup>Institute of Pathology, Medical University of Graz, Austria., <sup>177 </sup>Department of Oncology, National Cancer Centre, Singapore., <sup>178 </sup>Vivactiv Ltd, Bellingdon, Bucks, UK., <sup>179 </sup>Research Pathology, Genentech Inc., South San Francisco, USA., <sup>180 </sup>Department of Pathology, Brigham and Women’s Hospital, Boston, USA., <sup>181 </sup>Department of Pathology, Netherlands Cancer Institute, Amsterdam, The Netherlands., <sup>182 </sup>Research Pathology, Genentech Inc., South San Francisco, USA., <sup>183 </sup>R&D UNICANCER, Paris, France, <sup>184 </sup>Translational Sciences, MedImmune, Gaithersberg, USA., <sup>185 </sup>Breast Unit, Champalimaud Clinical Centre, Lisboa, Portugal, <sup>186 </sup>Department of Laboratory Medicine and Pathology, Mayo Clinic, Rochester, USA., <sup>187 </sup>Department of Medicine, Clinical Division of Oncology, Comprehensive Cancer Centre Vienna, Medical University of Vienna, Vienna, Austria., <sup>188 </sup>Leicester Cancer Research Centre, University of Leicester, Leicester, and MRC Toxicology Unit, University of Cambridge, UK., <sup>189 </sup>Merck & Co., Inc., Kenilworth, USA., <sup>190 </sup>Department of Pathology, Memorial Sloan Kettering Cancer Center, New York, NY, USA, <sup>191 </sup>Human Oncology and Pathogenesis Program, Memorial Sloan Kettering Cancer Center, New York, NY, USA, <sup>192 </sup>Department of Pathology, The Netherlands Cancer Institute, Amsterdam, The Netherlands, <sup>193 </sup>Department of Research, Instituto Nacional de Enfermedades Neoplasicas, Lima 15038, Peru., <sup>194 </sup>Department of Medicine, Department of Obstetrics & Gynecology and Women’s Health, Albert Einstein Medical Center, Bronx, USA., <sup>195 </sup>GHI Le Raincy-Montfermeil, Chelles, Île-de-France, France, <sup>196 </sup>Department of Pathology, Universidad de La Frontera, Temuco, Chile., <sup>197 </sup>Department of Pathology, Gustave Roussy, Grand Paris, France., <sup>198 </sup>Departments of Medicine and Cancer Biology, Vanderbilt University Medical Centre, Nashville, USA., <sup>199 </sup>Vm Scope, Germany., <sup>200 </sup>Department of Pathology, Breast Pathology Section, Northwestern University, Chicago, USA., <sup>201 </sup>Molecular Immunology Unit, Institut Jules Bordet, Université Libre de Bruxelles, Brussels, Belgium., <sup>202 </sup>Department of Biometrics, The Netherlands Cancer Institute, Amsterdam, The Netherlands, <sup>203 </sup>German Breast Group, Neu-Isenburg, Germany., <sup>204 </sup>Translational Sciences, MedImmune, Gaithersberg, USA., <sup>205 </sup>Merck & Co., Inc., Kenilworth, USA., <sup>206 </sup>Cancer Biomarkers Working Group, Faculty of Medicine and Pharmacy, Université Mohamed Premier, Oujda, Morocco., <sup>207 </sup>Yale Cancer Center Genetics, Genomics and Epigenetics Program, Yale School of Medicine, New Haven, CT , USA, <sup>208 </sup>Pathology Department, Stanford University Medical Centre, Stanford, USA., <sup>209 </sup>Department of Pathology, University Hospital Ghent, Belgium., <sup>210 </sup>Pathology and Tissue Analytics, Roche Innovation Centre Munich, Penzberg, Germany, <sup>211 </sup>Yale Cancer Center Genetics, Genomics and Epigenetics Program, Yale School of Medicine, New Haven, CT , USA, <sup>212 </sup>Molecular Immunology Unit, Institut Jules Bordet, Université Libre de Bruxelles, Brussels, Belgium., <sup>213 </sup>Center for Pharmacogenomics and Fudan-Zhangjiang, Center for Clinical Genomics School of Life Sciences and Shanghai Cancer Center, Fudan University, China., <sup>214 </sup>Sichuan Cancer Hospital, Chengdu, China., <sup>215 </sup>Oncology Biomarker Development, Genentech-Roche., <sup>216 </sup>Biorepository and Tissue Technology Shared Resources, University of California San Diego, USA., <sup>217 </sup>Division of Molecular Pathology, The Netherlands Cancer Institute, Amsterdam, The Netherlands, <sup>218 </sup>Department of Pathology, Gustave Roussy, Villejuif, France., <sup>219 </sup>Institute of Cancer Research Clinical Trials and Statistics Unit, The Institute of Cancer Research, Surrey, UK, <sup>220 </sup>Cancer Research UK Lung Cancer Centre of Excellence, University College London Cancer Institute, University College London, London, UK, <sup>221 </sup>Department of Surgery, Oncology and Gastroenterology, University of Padova, Padua, Italy., <sup>222 </sup>Department of Pathology, Academic Medical Center, Amsterdam, The Netherlands., <sup>223 </sup>Translational Sciences, MedImmune, Gaithersberg, USA., <sup>224 </sup>Institut Jules Bordet, Universite Libre de Bruxelles, Brussels, Belgium, <sup>225 </sup>Department of Oncology, Mayo Clinic, Rochester, USA., <sup>226 </sup>Department of Medicine, Clinical Division of Oncology, Comprehensive Cancer Centre Vienna, Medical University of Vienna, Vienna, Austria., <sup>227 </sup>Department of Pathology, Microbiology and Immunology, Vanderbilt University Medical Centre, Nashville, USA., <sup>228 </sup>Harvard Medical School, Boston, USA, <sup>229 </sup>Division of Biostatistics, Dana-Farber Cancer Institute, Boston, USA, <sup>230 </sup>Department of Anatomical Pathology, Royal Melbourne Hospital, Parkville, Australia., <sup>231 </sup>Vernon Cancer Center, Newton-Wellesley Hospital, Newton, USA., <sup>232 </sup>Department of Medical Oncology, Institut Jules Bordet, Université Libre de Bruxelles, Brussels, Belgium., <sup>233 </sup>Division of Molecular Pathology, The Netherlands Cancer Institute, Amsterdam, The Netherlands, <sup>234 </sup>Service de pathologique, Cliniques universitaires Saint-Luc, Bruxelles, Belgique, <sup>235 </sup>Department of Research, Instituto Nacional de Enfermedades Neoplasicas, Lima 15038, Peru, <sup>236 </sup>Breast Center, Dept. OB&GYN and CCC (LMU), University of Munich, Munich, Germany., <sup>237 </sup>Division of Hematology-Oncology, Beth Israel Deaconess Medical Center, Boston, USA., <sup>238 </sup>University of Leuven, Belgium., <sup>239 </sup>Department of Pathology, Institut Jules Bordet, Université Libre de Bruxelles, Brussels, Belgium., <sup>240 </sup>German Breast Group GmbH, Germany., <sup>241 </sup>Service de Biostatistique et d’Epidémiologie, Gustave Roussy, CESP, Université-Paris Sud, Université Paris-Saclay, Villejuif, France., <sup>242 </sup>Department of Surgical Pathology and Biopathology, Jean Perrin Comprehensive Cancer Centre, Clermont-Ferrand, France., <sup>243 </sup>Johanniter GmbH - Evangelisches Krankenhaus Bethesda Mönchengladbach, West German Study Group, Mönchengladbach, Germany., <sup>244 </sup>Pathology and Tissue Analytics, Roche., <sup>245 </sup>Molecular Oncology Group, Vall d’Hebron Institute of Oncology, Barcelona, Spain., <sup>246 </sup>Department of Pathology, University of Marburg, Marburg, Germany., <sup>247 </sup>Department of Pathology and Laboratory Medicine, University of British Columbia,, <sup>248 </sup>Merck & Co., Inc., Kenilworth, USA., <sup>249 </sup>Peter MacCallum Cancer Centre, Melbourne, Australia, <sup>250 </sup>Sir Peter MacCallum Department of Oncology, University of Melbourne, Parkville, Australia, <sup>251 </sup>Department of Anatomical Pathology, St Vincent’s Hospital Melbourne, Fitzroy, Australia., <sup>252 </sup>Cancer Immunotherapy Trials Network, Central Laboratory and Program in Immunology, Fred Hutchinson Cancer Research Center, Seattle, USA., <sup>253 </sup>Clinical Trial Service Unit & Epidemiological Studies Unit, University of Oxford, UK., <sup>254 </sup>Department of Oncology, Mayo Clinic, Rochester, USA., <sup>255 </sup>Department of Pathology, Institut Jules Bordet, Université Libre de Bruxelles, Brussels, Belgium., <sup>256 </sup>Department of Pathology, Fudan University Cancer Center, China., <sup>257 </sup>Department of Pathology, GZA-ZNA Hospitals, Antwerp, Belgium, <sup>258 </sup>University of British Columbia, Vancouver, British Columbia, Canada., <sup>259 </sup>Department of Radiation Oncology, Odette Cancer Centre, Sunnybrook Research Institute, Toronto, Canada, <sup>260 </sup>Oncology Merck & Co, New Jersey, USA, <sup>261 </sup>The Cancer Research Program, Garvan Institute of Medical Research, Darlinghurst, Australian Clinical Labs, Australia., <sup>262 </sup>Georgetown University Medical Center, Washington DC, USA., <sup>263 </sup>Department of Molecular and Experimental Medicine, Avera Cancer Institute, Sioux Falls, SD, USA., <sup>264 </sup>Translational Medicine, Bristol-Myers Squibb, Princeton, USA., <sup>265 </sup>National Surgical Adjuvant Breast and Bowel Project Operations Center/NRG Oncology, Pittsburgh, USA, <sup>266 </sup>Anatomic Pathology, Boston, Massachusetts, USA., <sup>267 </sup>King’s College London, London, UK, <sup>268 </sup>Guy’s Hospital, London, UK, <sup>269 </sup>Peking University First Hospital Breast Disease Center, Beijing, China., <sup>270 </sup>Department of Pathology, Peter MacCallum Cancer Centre, Melbourne, Australia., <sup>271 </sup>Dipartimento di Scienze della Salute (DSS), Firenze, Italy., <sup>272 </sup>Department of Oncology, Champalimaud Clinical Centre, Lisbon, Portugal., <sup>273 </sup>National Surgical Adjuvant Breast and Bowel Project Operations Center/NRG Oncology, Pittsburgh, Pennsylvania, USA., <sup>274 </sup>Department of Pathology, Peter MacCallum Cancer Centre, Melbourne, Australia., <sup>275 </sup>Division of Research and Cancer Medicine, Peter MacCallum Cancer Centre, University of Melbourne, Victoria, Australia, <sup>276 </sup>Department of Pathology and Laboratory Medicine, Tufts Medical Center, USA, <sup>277 </sup>Department of Pathology, Fundación Valle del Lili, Cali, Colombia., <sup>278 </sup>Department of Pathology, Montefiore Medical Center and the Albert Einstein College of Medicine, Bronx, NY, USA, <sup>279 </sup>Department of Pathology, University Hospital of Bellvitge, Oncobell, IDIBELL, L'Hospitalet del Llobregat, Barcelona 08908, Catalonia, Spain, <sup>280 </sup>Department of Development and Regeneration, Laboratory of Experimental Urology, KU Leuven, Leuven, Belgium., <sup>281 </sup>Department of Pathology, Memorial Sloan Kettering Cancer Center, New York, NY, USA., <sup>282 </sup>Department of Medical Oncology, Austin Health, Heidelberg, Australia., <sup>283 </sup>Department of Surgery, Kansai Medical School, Hirakata, Japan., <sup>284 </sup>Department of Pathology, Massachusetts General Hospital, USA., <sup>285 </sup>Bioinformatics and Computational Genomics Laboratory, Princess Margaret Cancer Center, Toronto, Canada., <sup>286 </sup>Pathology Department, H.U. Vall d’Hebron, Barcelona, Spain., <sup>287 </sup>Division of Bioinformatics and Biostatistics, U.S. Food and Drug Administration, USA., <sup>288 </sup>Department of Pathology, Fudan University Cancer Center, China., <sup>289 </sup>Department of Radiation Oncology, Odette Cancer Centre, Sunnybrook Research Institute, Toronto, Canada, <sup>290 </sup>Department of Pathology and Laboratory Medicine, Rhode Island Hospital and Lifespan Medical Center, Providence, USA., <sup>291 </sup>Université Paris-Est, Créteil, France., <sup>292 </sup>Praava Health, Dhaka, Bangladesh"
     },
     "metadata": {},
     "output_type": "execute_result",
     "execution_count": 9
    }
   ]
  },
  {
   "cell_type": "code",
   "execution_count": 9,
   "outputs": [],
   "source": [],
   "metadata": {
    "collapsed": false,
    "pycharm": {
     "name": "#%%",
     "is_executing": false
    }
   }
  }
 ],
 "metadata": {
  "kernelspec": {
   "display_name": "Python 3",
   "language": "python",
   "name": "python3"
  },
  "language_info": {
   "codemirror_mode": {
    "name": "ipython",
    "version": 2
   },
   "file_extension": ".py",
   "mimetype": "text/x-python",
   "name": "python",
   "nbconvert_exporter": "python",
   "pygments_lexer": "ipython2",
   "version": "2.7.6"
  },
  "pycharm": {
   "stem_cell": {
    "cell_type": "raw",
    "source": [],
    "metadata": {
     "collapsed": false
    }
   }
  }
 },
 "nbformat": 4,
 "nbformat_minor": 0
}